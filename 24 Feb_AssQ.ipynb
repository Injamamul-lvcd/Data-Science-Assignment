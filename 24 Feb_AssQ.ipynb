{
 "cells": [
  {
   "cell_type": "markdown",
   "id": "4f52a4e3-50b8-43d7-8783-01072ba176d8",
   "metadata": {},
   "source": [
    "### Q1. List any five functions of the pandas library with execution."
   ]
  },
  {
   "cell_type": "markdown",
   "id": "75123d71-95bc-4b2b-be97-680091b2588f",
   "metadata": {},
   "source": [
    "#### here are five functions from the pandas library along with their executions:\n",
    "#### read_csv(): This function is used to read data from a CSV (Comma Separated Values) file and create a DataFrame."
   ]
  },
  {
   "cell_type": "code",
   "execution_count": null,
   "id": "e0c60a07-67b5-4323-8e71-394d94425f4b",
   "metadata": {},
   "outputs": [],
   "source": [
    "import pandas as pd\n",
    "print(data.head())"
   ]
  },
  {
   "cell_type": "markdown",
   "id": "a006d6f8-e339-4181-aa2a-4e7c689bd4eb",
   "metadata": {},
   "source": [
    "#### info(): This function provides a concise summary of the DataFrame, including information about the data types, non-null values, and memory usage."
   ]
  },
  {
   "cell_type": "code",
   "execution_count": 3,
   "id": "38b92997-3ef8-468b-a5be-f9925876bf88",
   "metadata": {},
   "outputs": [
    {
     "name": "stdout",
     "output_type": "stream",
     "text": [
      "<class 'pandas.core.frame.DataFrame'>\n",
      "RangeIndex: 3 entries, 0 to 2\n",
      "Data columns (total 2 columns):\n",
      " #   Column  Non-Null Count  Dtype \n",
      "---  ------  --------------  ----- \n",
      " 0   Name    3 non-null      object\n",
      " 1   Age     3 non-null      int64 \n",
      "dtypes: int64(1), object(1)\n",
      "memory usage: 176.0+ bytes\n"
     ]
    }
   ],
   "source": [
    "import pandas as pd\n",
    "data = pd.DataFrame({'Name': ['Alice', 'Bob', 'Charlie'],\n",
    "                     'Age': [25, 30, 22]})\n",
    "data.info()"
   ]
  },
  {
   "cell_type": "markdown",
   "id": "060aa758-9d88-48bb-b8ba-d66083e47cf9",
   "metadata": {},
   "source": [
    "#### fillna(): This function is used to replace missing values in a DataFrame with specified values."
   ]
  },
  {
   "cell_type": "code",
   "execution_count": 5,
   "id": "4ae9d79d-e49e-4a51-b2d3-5b4bbf062a73",
   "metadata": {},
   "outputs": [
    {
     "name": "stdout",
     "output_type": "stream",
     "text": [
      "     A\n",
      "0  1.0\n",
      "1  2.0\n",
      "2  0.0\n",
      "3  4.0\n",
      "4  5.0\n"
     ]
    }
   ],
   "source": [
    "import pandas as pd\n",
    "data = pd.DataFrame({'A': [1, 2, np.nan, 4, 5]})\n",
    "# Fill missing values with a specified value (e.g., 0)\n",
    "filled_data = data.fillna(0)\n",
    "# Display the filled DataFrame\n",
    "print(filled_data)"
   ]
  },
  {
   "cell_type": "markdown",
   "id": "e8b44c2c-9007-4434-96dc-6fba76cfe610",
   "metadata": {},
   "source": [
    "#### merge(): This function is used to combine two DataFrames based on a common column (or columns)."
   ]
  },
  {
   "cell_type": "code",
   "execution_count": 6,
   "id": "6f16ac00-d8e7-442b-b08a-6d887323ef44",
   "metadata": {},
   "outputs": [
    {
     "name": "stdout",
     "output_type": "stream",
     "text": [
      "   ID     Name  Age\n",
      "0   2      Bob   25\n",
      "1   3  Charlie   30\n"
     ]
    }
   ],
   "source": [
    "import pandas as pd\n",
    "# Create two sample DataFrames\n",
    "df1 = pd.DataFrame({'ID': [1, 2, 3],\n",
    "                   'Name': ['Alice', 'Bob', 'Charlie']})\n",
    "df2 = pd.DataFrame({'ID': [2, 3, 4],\n",
    "                    'Age': [25, 30, 22]})\n",
    "# Merge the DataFrames on the 'ID' column\n",
    "merged_data = pd.merge(df1, df2, on='ID')\n",
    "# Display the merged DataFrame\n",
    "print(merged_data)"
   ]
  },
  {
   "cell_type": "markdown",
   "id": "4d3224b6-a7c7-4ec5-bad2-ac8c1ac26390",
   "metadata": {},
   "source": [
    "### Q2. Given a Pandas DataFrame df with columns 'A', 'B', and 'C', write a Python function to re-index the\n",
    "### DataFrame with a new index that starts from 1 and increments by 2 for each row."
   ]
  },
  {
   "cell_type": "markdown",
   "id": "37126024-788a-4778-b695-2cffbbf25433",
   "metadata": {},
   "source": [
    "#### We can achieve this by using the set_index() function along with the range() function to generate the new index values. Here's a Python function that re-indexes the DataFrame as you described:"
   ]
  },
  {
   "cell_type": "code",
   "execution_count": 9,
   "id": "8e709232-4042-455f-bb0f-e91ce15e90bf",
   "metadata": {},
   "outputs": [
    {
     "name": "stdout",
     "output_type": "stream",
     "text": [
      "Before re-indexing...\n",
      "    A   B   C\n",
      "0  10  40  70\n",
      "1  20  50  80\n",
      "2  30  60  90\n",
      "After re-indexing....\n",
      "    A   B   C\n",
      "1  10  40  70\n",
      "3  20  50  80\n",
      "5  30  60  90\n"
     ]
    }
   ],
   "source": [
    "import pandas as pd\n",
    "\n",
    "def reindex_dataframe(df):\n",
    "    # Generate new index values starting from 1 and incrementing by 2\n",
    "    new_index = range(1, len(df) * 2, 2)\n",
    "    \n",
    "    # Set the new index for the DataFrame\n",
    "    df_reindexed = df.set_index(pd.Index(new_index))\n",
    "    \n",
    "    return df_reindexed\n",
    "\n",
    "# Sample DataFrame with columns 'A', 'B', and 'C'\n",
    "data = {'A': [10, 20, 30],\n",
    "        'B': [40, 50, 60],\n",
    "        'C': [70, 80, 90]}\n",
    "\n",
    "df = pd.DataFrame(data)\n",
    "\n",
    "# Call the function to re-index the DataFrame\n",
    "print(\"Before re-indexing...\")\n",
    "print(df)\n",
    "reindexed_df = reindex_dataframe(df)\n",
    "print(\"After re-indexing....\")\n",
    "# Display the re-indexed DataFrame\n",
    "print(reindexed_df)\n"
   ]
  },
  {
   "cell_type": "markdown",
   "id": "505f0aa0-50bc-4c26-bc39-47b9ecfe4e7e",
   "metadata": {},
   "source": [
    "### Q3. You have a Pandas DataFrame df with a column named 'Values'. Write a Python function that\n",
    "### iterates over the DataFrame and calculates the sum of the first three values in the 'Values' column. The function should print the sum to the console."
   ]
  },
  {
   "cell_type": "markdown",
   "id": "bc320b04-56fb-479c-9dd7-8cfd88d4cbb9",
   "metadata": {},
   "source": [
    "####  To calculate the sum of the first three values in the 'Values' column of the DataFrame is to use array slicing along with the .loc[] accessor."
   ]
  },
  {
   "cell_type": "code",
   "execution_count": 6,
   "id": "23132963-3cd4-48c9-ad34-40849ff9be51",
   "metadata": {},
   "outputs": [
    {
     "name": "stdout",
     "output_type": "stream",
     "text": [
      "Here the first three values...\n",
      "0    10\n",
      "1    20\n",
      "2    30\n",
      "Name: Values, dtype: int64\n",
      "Sum of the first three values: 60\n"
     ]
    }
   ],
   "source": [
    "import pandas as pd\n",
    "def calculate_sum_first_three(df):\n",
    "    # Use array slicing to get the first three values from the 'Values' column\n",
    "    first_three_values = df.loc[:2, 'Values']\n",
    "    print(\"Here the first three values...\")\n",
    "    print(first_three_values)\n",
    "    # Calculate the sum of the first three values\n",
    "    sum_first_three = first_three_values.sum()\n",
    "    print(\"Sum of the first three values:\", sum_first_three)\n",
    "data = {'Values': [10, 20, 30, 40, 50]}\n",
    "df = pd.DataFrame(data)\n",
    "# Call the function to calculate and print the sum\n",
    "calculate_sum_first_three(df)"
   ]
  },
  {
   "cell_type": "markdown",
   "id": "35d58ff3-cf75-4617-afc0-c6636c7232b4",
   "metadata": {},
   "source": [
    "### Q4. Given a Pandas DataFrame df with a column 'Text', write a Python function to create a new column 'Word_Count' that contains the number of words in each row of the 'Text' column."
   ]
  },
  {
   "cell_type": "code",
   "execution_count": 2,
   "id": "e6666e2e-03ab-4288-80e0-74451991ed4f",
   "metadata": {},
   "outputs": [
    {
     "name": "stdout",
     "output_type": "stream",
     "text": [
      "                                Text  Word_Count\n",
      "0         This is a sample sentence.           5\n",
      "1  Another sentence with more words.           5\n",
      "2                    Short sentence.           2\n"
     ]
    }
   ],
   "source": [
    "import pandas as pd\n",
    "\n",
    "def count_words(text):\n",
    "    # Split the text into words and return the count\n",
    "    return len(text.split())\n",
    "\n",
    "def add_word_count_column(df):\n",
    "    # Apply the count_words function to the 'Text' column and create a new 'Word_Count' column\n",
    "    df['Word_Count'] = df['Text'].apply(count_words)\n",
    "    \n",
    "    return df\n",
    "\n",
    "# Sample DataFrame with 'Text' column\n",
    "data = {'Text': ['This is a sample sentence.',\n",
    "                 'Another sentence with more words.',\n",
    "                 'Short sentence.']}\n",
    "\n",
    "df = pd.DataFrame(data)\n",
    "\n",
    "# Call the function to add the 'Word_Count' column\n",
    "df_with_word_count = add_word_count_column(df)\n",
    "\n",
    "# Display the DataFrame with the new column\n",
    "print(df_with_word_count)\n"
   ]
  },
  {
   "cell_type": "markdown",
   "id": "aedafe96-dda2-4e10-923b-c2cda226a0b4",
   "metadata": {},
   "source": [
    "### Q5. How are DataFrame.size() and DataFrame.shape() different?"
   ]
  },
  {
   "cell_type": "markdown",
   "id": "72313ad4-aadc-4e55-932a-bb58b88eff97",
   "metadata": {},
   "source": [
    "#### Ans: Both DataFrame.size and DataFrame.shape are attributes of a Pandas DataFrame, Here the example...\n",
    "#### 1. DataFrame.size: This attribute returns the total number of elements in the DataFrame, which is the product of the number of rows and the number of columns. It gives you the total count of values in the DataFrame."
   ]
  },
  {
   "cell_type": "code",
   "execution_count": 4,
   "id": "33d88f0f-9d88-43a1-8462-a56755b59414",
   "metadata": {},
   "outputs": [
    {
     "name": "stdout",
     "output_type": "stream",
     "text": [
      "DataFrame size: 8\n"
     ]
    }
   ],
   "source": [
    "import pandas as pd\n",
    "data = {'A': [1, 2, 3,8],\n",
    "        'B': [4, 5, 6,42]}\n",
    "df = pd.DataFrame(data)\n",
    "size = df.size\n",
    "print(\"DataFrame size:\", size)"
   ]
  },
  {
   "cell_type": "markdown",
   "id": "86188328-6f0f-4ef2-b3cf-73246a45d8b4",
   "metadata": {},
   "source": [
    "#### 2.DataFrame.shape: This attribute returns a tuple representing the dimensions of the DataFrame as (number_of_rows, number_of_columns). It provides you with a clear breakdown of the DataFrame's structure."
   ]
  },
  {
   "cell_type": "code",
   "execution_count": 5,
   "id": "bb399feb-e12f-4cb9-ac10-4d24e6cec1c0",
   "metadata": {},
   "outputs": [
    {
     "name": "stdout",
     "output_type": "stream",
     "text": [
      "DataFrame shape: (4, 2)\n"
     ]
    }
   ],
   "source": [
    "df = pd.DataFrame(data)\n",
    "shape = df.shape\n",
    "print(\"DataFrame shape:\", shape)"
   ]
  },
  {
   "cell_type": "markdown",
   "id": "7e6d3a76-1fde-44c4-8aec-2cb044b7f6b0",
   "metadata": {},
   "source": [
    "### Q6. Which function of pandas do we use to read an excel file?"
   ]
  },
  {
   "cell_type": "markdown",
   "id": "c35e7fab-a0ab-4719-a278-c4c196a4a4d3",
   "metadata": {},
   "source": [
    "#### Ans: read_excel() function. This function allows us to read data from Excel files (both .xls and .xlsx formats). "
   ]
  },
  {
   "cell_type": "code",
   "execution_count": null,
   "id": "4dd9e0e6-1900-4615-929c-e7bbcb740b55",
   "metadata": {},
   "outputs": [],
   "source": [
    "import pandas as pd\n",
    "data = pd.read_excel('file.xlsx') \n",
    "print(data.head())"
   ]
  },
  {
   "cell_type": "markdown",
   "id": "ceb3687d-78ba-4c45-a854-056a9f4feff6",
   "metadata": {},
   "source": [
    "### Q7.You have a Pandas DataFrame df that contains a column named 'Email' that contains email addresses in the format 'username@domain.com'.Write a Python function that creates a new column 'Username' in df that contains only the username part of each email address."
   ]
  },
  {
   "cell_type": "code",
   "execution_count": 17,
   "id": "3097879f-ccbc-40b0-9164-55e7527233ae",
   "metadata": {},
   "outputs": [
    {
     "name": "stdout",
     "output_type": "stream",
     "text": [
      "               Email Username\n",
      "0  user1@example.com    user1\n",
      "1  user2@example.com    user2\n",
      "2  user3@example.com    user3\n"
     ]
    }
   ],
   "source": [
    "import pandas as pd\n",
    "def extract_username (email):\n",
    "    return email.split(\"@\")[0]\n",
    "\n",
    "def add_username_column(df):\n",
    "    df[\"Username\"]=df[\"Email\"].apply(extract_username)\n",
    "    return df \n",
    "data = {'Email': ['user1@example.com', 'user2@example.com', 'user3@example.com']}\n",
    "df = pd.DataFrame(data)\n",
    "df_with_username = add_username_column(df)\n",
    "print(df_with_username)"
   ]
  },
  {
   "cell_type": "markdown",
   "id": "07389d67-8eea-4ac2-a7ae-111282c1a971",
   "metadata": {},
   "source": [
    "### Q8. You have a Pandas DataFrame df with columns 'A', 'B', and 'C'. Write a Python function that selects\n",
    "### all rows where the value in column 'A' is greater than 5 and the value in column 'B' is less than 10. The\n",
    "### function should return a new DataFrame that contains only the selected rows.\n",
    "### For example, if df contains the following values:\n",
    "### A B C\n",
    "### 0 3 5 1\n",
    "### 1 8 2 7\n",
    "### 2 6 9 4\n",
    "### 3 2 3 5\n",
    "### 4 9 1 2"
   ]
  },
  {
   "cell_type": "code",
   "execution_count": 18,
   "id": "78a0c787-f845-4ff9-a8af-3554d024f3b7",
   "metadata": {},
   "outputs": [
    {
     "name": "stdout",
     "output_type": "stream",
     "text": [
      "   A  B  C\n",
      "1  8  2  7\n",
      "2  6  9  4\n",
      "4  9  1  2\n"
     ]
    }
   ],
   "source": [
    "import pandas as pd\n",
    "def filter_dataframe(df):\n",
    "    selected_rows = df[(df['A'] > 5) & (df['B'] < 10)]\n",
    "    return selected_rows\n",
    "data = {'A': [3, 8, 6, 2, 9],\n",
    "        'B': [5, 2, 9, 3, 1],\n",
    "        'C': [1, 7, 4, 5, 2]}\n",
    "\n",
    "df = pd.DataFrame(data)\n",
    "filtered_df = filter_dataframe(df)\n",
    "print(filtered_df)"
   ]
  },
  {
   "cell_type": "markdown",
   "id": "05e89056-3c35-4482-a022-ab739008459e",
   "metadata": {},
   "source": [
    "### Q9. Given a Pandas DataFrame df with a column 'Values', write a Python function to calculate the mean,median, and standard deviation of the values in the 'Values' column."
   ]
  },
  {
   "cell_type": "code",
   "execution_count": 19,
   "id": "79b59338-aa43-4e26-b0a0-ef6a02715904",
   "metadata": {},
   "outputs": [
    {
     "name": "stdout",
     "output_type": "stream",
     "text": [
      "Mean: 30.0\n",
      "Median: 30.0\n",
      "Standard Deviation: 15.811388300841896\n"
     ]
    }
   ],
   "source": [
    "import pandas as pd\n",
    "def calculate_statistics(df):\n",
    "    mean_value = df['Values'].mean()\n",
    "    median_value = df['Values'].median()\n",
    "    std_deviation = df['Values'].std()\n",
    "    \n",
    "    return mean_value, median_value, std_deviation\n",
    "data = {'Values': [10, 20, 30, 40, 50]}\n",
    "df = pd.DataFrame(data)\n",
    "mean, median, std = calculate_statistics(df)\n",
    "print(\"Mean:\", mean)\n",
    "print(\"Median:\", median)\n",
    "print(\"Standard Deviation:\", std)"
   ]
  },
  {
   "cell_type": "markdown",
   "id": "01a36dbe-8a59-49aa-8c4d-7ba0ed1b6249",
   "metadata": {},
   "source": [
    "### Q10. Given a Pandas DataFrame df with a column 'Sales' and a column 'Date', write a Python function to create a new column 'MovingAverage' that contains the moving average of the sales for the past 7 days for each row in the DataFrame. The moving average should be calculated using a window of size 7 and should include the current day."
   ]
  },
  {
   "cell_type": "code",
   "execution_count": 23,
   "id": "7c9ef967-9b9f-44d4-a9f3-3c2e046592b4",
   "metadata": {},
   "outputs": [
    {
     "name": "stdout",
     "output_type": "stream",
     "text": [
      "   Sales       Date  MovingAverage\n",
      "0     10 2023-08-01           10.0\n",
      "1     15 2023-08-02           12.5\n",
      "2     20 2023-08-03           15.0\n",
      "3     25 2023-08-04           17.5\n",
      "4     30 2023-08-05           20.0\n",
      "5     35 2023-08-06           22.5\n",
      "6     40 2023-08-07           25.0\n",
      "7     45 2023-08-08           30.0\n",
      "8     50 2023-08-09           35.0\n",
      "9     55 2023-08-10           40.0\n"
     ]
    }
   ],
   "source": [
    "import pandas as pd\n",
    "def add_moving_average_column(df):\n",
    "    df['MovingAverage'] = df['Sales'].rolling(window=7, min_periods=1).mean()\n",
    "    return df\n",
    "data = {'Sales': [10, 15, 20, 25, 30, 35, 40, 45, 50, 55],\n",
    "        'Date': ['2023-08-01', '2023-08-02', '2023-08-03', '2023-08-04', '2023-08-05', '2023-08-06',\n",
    "                 '2023-08-07', '2023-08-08', '2023-08-09', '2023-08-10']}\n",
    "\n",
    "df = pd.DataFrame(data)\n",
    "df['Date'] = pd.to_datetime(df['Date'])  \n",
    "df_with_moving_average = add_moving_average_column(df)\n",
    "print(df_with_moving_average)"
   ]
  },
  {
   "cell_type": "markdown",
   "id": "8b348cca-4834-4bd0-a593-2e12d91f82ce",
   "metadata": {},
   "source": [
    "### Q11. You have a Pandas DataFrame df with a column 'Date'. Write a Python function that creates a new\n",
    "### column 'Weekday' in the DataFrame. The 'Weekday' column should contain the weekday name (e.g.\n",
    "     Monday, Tuesday) corresponding to each date in the 'Date' column.\n",
    "     For example, if df contains the following values:\n",
    "    Date 0 2023-01-01\n",
    "    1 2023-01-02\n",
    "    2 2023-01-03\n",
    "    3 2023-01-04\n",
    "    4 2023-01-05\n",
    "    Your function should create the following DataFrame:\n",
    "\n",
    "Date Weekday\n",
    "0 2023-01-01 Sunday\n",
    "1 2023-01-02 Monday\n",
    "2 2023-01-03 Tuesday\n",
    "3 2023-01-04 Wednesday\n",
    "4 2023-01-05 Thursday\n",
    "The function should return the modified DataFrame."
   ]
  },
  {
   "cell_type": "code",
   "execution_count": 26,
   "id": "455327e9-ab51-4462-8687-68af70e508b5",
   "metadata": {},
   "outputs": [
    {
     "name": "stdout",
     "output_type": "stream",
     "text": [
      "        Date    Weekday\n",
      "0 2023-01-01     Sunday\n",
      "1 2023-01-02     Monday\n",
      "2 2023-01-03    Tuesday\n",
      "3 2023-01-04  Wednesday\n",
      "4 2023-01-05   Thursday\n"
     ]
    }
   ],
   "source": [
    "import pandas as pd\n",
    "def add_weekday_column(df):\n",
    "    df['Date'] = pd.to_datetime(df['Date'])\n",
    "    df['Weekday'] = df['Date'].apply(lambda x: x.strftime('%A'))\n",
    "    return df\n",
    "data = {'Date': ['2023-01-01', '2023-01-02', '2023-01-03', '2023-01-04', '2023-01-05']}\n",
    "df = pd.DataFrame(data)\n",
    "df_with_weekday = add_weekday_column(df)\n",
    "print(df_with_weekday)"
   ]
  },
  {
   "cell_type": "markdown",
   "id": "d1afc4b3-a710-48a1-bd45-b09787fe33d0",
   "metadata": {},
   "source": [
    "### Q12. Given a Pandas DataFrame df with a column 'Date' that contains timestamps, write a Python function to select all rows where the date is between '2023-01-01' and '2023-01-31'."
   ]
  },
  {
   "cell_type": "code",
   "execution_count": 35,
   "id": "6d060c04-5311-4302-a585-105b8778cb69",
   "metadata": {},
   "outputs": [
    {
     "name": "stdout",
     "output_type": "stream",
     "text": [
      "        Date\n",
      "0 2023-01-15\n",
      "1 2023-01-25\n",
      "3 2023-01-10\n"
     ]
    }
   ],
   "source": [
    "import pandas as pd\n",
    "def select_date_range(df, start_date, end_date):\n",
    "    df['Date'] = pd.to_datetime(df['Date'])\n",
    "    selected_rows = df[(df['Date'] >= start_date) & (df['Date'] <= end_date)]\n",
    "    return selected_rows\n",
    "\n",
    "# Sample DataFrame with 'Date' column\n",
    "data = {'Date': ['2023-01-15', '2023-01-25', '2023-02-05', '2023-01-10', '2023-02-20']}\n",
    "df = pd.DataFrame(data)\n",
    "start_date = '2023-01-01'\n",
    "end_date = '2023-01-31'\n",
    "selected_df = select_date_range(df, start_date, end_date)\n",
    "print(selected_df)"
   ]
  },
  {
   "cell_type": "markdown",
   "id": "5de4563c-bca4-4435-8677-fa3b3cc03fa3",
   "metadata": {},
   "source": [
    "### Q13. To use the basic functions of pandas, what is the first and foremost necessary library that needs to be imported?"
   ]
  },
  {
   "cell_type": "markdown",
   "id": "95d4672a-7039-4fc3-b6d5-526b19c72e1c",
   "metadata": {},
   "source": [
    "#### Ans: To use the basic functions of pandas, we need to import the pandas library itself. The pandas library provides data structures and functions for efficiently manipulating and analyzing data, including the widely used DataFrame object."
   ]
  },
  {
   "cell_type": "code",
   "execution_count": null,
   "id": "e2225eaf-48be-4952-ba8f-23e26f2d03f7",
   "metadata": {},
   "outputs": [],
   "source": []
  }
 ],
 "metadata": {
  "kernelspec": {
   "display_name": "Python 3 (ipykernel)",
   "language": "python",
   "name": "python3"
  },
  "language_info": {
   "codemirror_mode": {
    "name": "ipython",
    "version": 3
   },
   "file_extension": ".py",
   "mimetype": "text/x-python",
   "name": "python",
   "nbconvert_exporter": "python",
   "pygments_lexer": "ipython3",
   "version": "3.10.8"
  }
 },
 "nbformat": 4,
 "nbformat_minor": 5
}
