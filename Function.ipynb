{
 "cells": [
  {
   "cell_type": "markdown",
   "id": "f611a1ca-cc99-4fbe-b80f-9a4493cdfdbf",
   "metadata": {},
   "source": [
    "## Q1. Which keyword is used to create a function? Create a function to return a list of odd numbers in the\n",
    "## range of 1 to 25."
   ]
  },
  {
   "cell_type": "markdown",
   "id": "c5a949b9-0f86-4db4-9555-821faee9ed3e",
   "metadata": {},
   "source": [
    "### Ans: \"def\" keyword is used to create a function in python."
   ]
  },
  {
   "cell_type": "code",
   "execution_count": 3,
   "id": "b59896ca-d738-4008-b81d-db8bd3b5445b",
   "metadata": {},
   "outputs": [],
   "source": [
    "def odd(n):\n",
    "    ls=[]\n",
    "    for i in range(1,n):\n",
    "        if i%2!=0:\n",
    "            ls.append(i)\n",
    "    return ls"
   ]
  },
  {
   "cell_type": "code",
   "execution_count": 4,
   "id": "3f237c11-67b6-4311-bbe8-bdb87aeeabb8",
   "metadata": {},
   "outputs": [
    {
     "name": "stdout",
     "output_type": "stream",
     "text": [
      "[1, 3, 5, 7, 9, 11, 13, 15, 17, 19, 21, 23]\n"
     ]
    }
   ],
   "source": [
    "print(odd(25))"
   ]
  },
  {
   "cell_type": "markdown",
   "id": "e4272442-7310-4d9e-9cf8-25f860025ea5",
   "metadata": {},
   "source": [
    "## Q2. Why *args and **kwargs is used in some functions? Create a function each for *args and **kwargs to\n",
    "## demonstrate their use."
   ]
  },
  {
   "cell_type": "markdown",
   "id": "88a6b7ee-232c-4df4-966e-1ab16fbcaabc",
   "metadata": {},
   "source": [
    "### Ans: *args and **kwargs are special syntax in Python for passing a variable number of arguments to a function.\n",
    "\n",
    "### *args allows a function to receive a variable number of non-keyword arguments, while **kwargs allows a function to receive a variable number of keyword arguments.\n"
   ]
  },
  {
   "cell_type": "code",
   "execution_count": 5,
   "id": "ce599dbc-d67c-4a74-83e1-829c87506d64",
   "metadata": {},
   "outputs": [],
   "source": [
    "#Example of *args\n",
    "def sum_number(*args):\n",
    "    total=0\n",
    "    for i in args:\n",
    "        total+=i\n",
    "    return total\n"
   ]
  },
  {
   "cell_type": "code",
   "execution_count": 6,
   "id": "773f9ee7-34b2-4fd6-a611-a8e8dca9c23a",
   "metadata": {},
   "outputs": [
    {
     "name": "stdout",
     "output_type": "stream",
     "text": [
      "29\n"
     ]
    }
   ],
   "source": [
    "print(sum_number(8,7,9,5))"
   ]
  },
  {
   "cell_type": "markdown",
   "id": "b6c47e7a-4ba9-48a2-a2f9-d3391b48a06b",
   "metadata": {},
   "source": [
    "### The function sum_number take any number of arguments."
   ]
  },
  {
   "cell_type": "code",
   "execution_count": 9,
   "id": "e76745f5-64d9-47e8-90a2-9dc8e8389a34",
   "metadata": {},
   "outputs": [],
   "source": [
    "#Example of **kargs\n",
    "def myFun(**kwargs):\n",
    "    for key,value in kwargs.items():\n",
    "        print(f\"{key}: {value}\")"
   ]
  },
  {
   "cell_type": "code",
   "execution_count": 10,
   "id": "af01cc67-45e6-442c-9246-cf6dc49641b5",
   "metadata": {},
   "outputs": [
    {
     "name": "stdout",
     "output_type": "stream",
     "text": [
      "name: injamamul\n",
      "age: 24\n",
      "roll: 16\n",
      "None\n"
     ]
    }
   ],
   "source": [
    "print(myFun(name=\"injamamul\",age=24,roll=16))"
   ]
  },
  {
   "cell_type": "markdown",
   "id": "1e3672ee-8bdc-4464-816f-ef0275323779",
   "metadata": {},
   "source": [
    "### This function can take any number of keyword arguments and print them out in a key-value format."
   ]
  },
  {
   "cell_type": "markdown",
   "id": "b3ee803b-6579-4887-aab3-6a85535c5055",
   "metadata": {},
   "source": [
    "## Q3. What is an iterator in python? Name the method used to initialise the iterator object and the method\n",
    "## used for iteration. Use these methods to print the first five elements of the given list [2, 4, 6, 8, 10, 12, 14, 16,18, 20]."
   ]
  },
  {
   "cell_type": "markdown",
   "id": "85c4bb7b-aba8-4dad-b229-8f22023cfb88",
   "metadata": {},
   "source": [
    "### An iterator in Python is an object that allows you to traverse through a sequence of values. It is an object that implements the iterator protocol,\n",
    "### which consists of the __iter__() and __next__() methods.\n",
    "\n",
    "### The __iter__() method is used to initialize the iterator object and returns the iterator object itself. \n",
    " ### The __next__() method is used to retrieve the next value from the iterator. When there are no more values to retrieve, it raises the StopIteration exception.\n",
    "\n",
    "### Here is an example of how to use an iterator to print the first five elements of the list [2, 4, 6, 8, 10, 12, 14, 16, 18, 20]:"
   ]
  },
  {
   "cell_type": "code",
   "execution_count": 12,
   "id": "0b13561d-752e-4347-8fa0-b74c22b29d5c",
   "metadata": {},
   "outputs": [
    {
     "name": "stdout",
     "output_type": "stream",
     "text": [
      "2\n",
      "4\n",
      "6\n",
      "8\n",
      "10\n"
     ]
    }
   ],
   "source": [
    "list=[2,4,6,8,10,12,14,16,18,20]\n",
    "my_iter=iter(list)\n",
    "\n",
    "for i in range (5):\n",
    "    print(next(my_iter))"
   ]
  },
  {
   "cell_type": "markdown",
   "id": "05c75f2b-23b5-4d90-8e4f-e9fe4f17364e",
   "metadata": {},
   "source": [
    "## Q4. What is a generator function in python? Why yield keyword is used? Give an example of a generator function."
   ]
  },
  {
   "cell_type": "markdown",
   "id": "8445df5e-bf20-4a93-9450-2e5ba2e04b5a",
   "metadata": {},
   "source": [
    "### Ans: A generator function in Python is a special type of function that generates a sequence of values using the yield keyword. When a generator function is called, it returns a generator object, which can be used to iterate over the sequence of values generated by the function. Unlike regular functions, generator functions do not return a value using the return keyword, but instead use the yield keyword to generate a sequence of values one at a time.\n",
    "\n",
    "### The yield keyword is used to return a value from the generator function without terminating the function. When a yield statement is executed, the function's state is saved, and the value is returned to the caller. When the generator function is called again, it resumes from where it left off and continues generating values until it encounters another yield statement or reaches the end of the function."
   ]
  },
  {
   "cell_type": "code",
   "execution_count": null,
   "id": "4d13c286-fb1f-49ec-843f-9a9d3cddf5e8",
   "metadata": {},
   "outputs": [],
   "source": [
    "# example of generator function.\n",
    "def even_numbers(n):\n",
    "    for i in range(n):\n",
    "        if i % 2 == 0:\n",
    "            yield i\n",
    "\n",
    "# Using the generator function to print even numbers up to 10\n",
    "for num in even_numbers(10):\n",
    "    print(num)\n",
    "# output 0,2,4,6,8,10."
   ]
  },
  {
   "cell_type": "markdown",
   "id": "6dc11812-b0d0-498d-8ccb-6b9c6f31adcf",
   "metadata": {},
   "source": [
    "### In this example, the even_numbers() function is a generator function that yields even numbers up to n. When the for loop iterates over the generator object returned by the even_numbers() function, it generates the sequence of even numbers one at a time using the yield keyword.\n",
    "### a generator function is typically more memory-efficient than a regular function that generates a sequence of values, because it only generates one value at a time instead of storing the entire sequence in memory. Additionally, a generator function can be used to generate an infinite sequence of values, whereas a regular function would need to allocate memory for the entire sequence, which is not feasible for large or infinite sequences."
   ]
  },
  {
   "cell_type": "markdown",
   "id": "f6048b43-fbaf-4a3f-86af-d746312f4282",
   "metadata": {},
   "source": [
    "## Q5. Create a generator function for prime numbers less than 1000. Use the next() method to print the first 20 prime numbers.\n"
   ]
  },
  {
   "cell_type": "markdown",
   "id": "588dddde-9a9f-4427-af6f-340f47054b11",
   "metadata": {},
   "source": [
    "### Ans: here the generator function"
   ]
  },
  {
   "cell_type": "code",
   "execution_count": 8,
   "id": "4683c7e2-6921-4cbc-9157-8bdd5f3a0904",
   "metadata": {},
   "outputs": [],
   "source": [
    "def prime_numbers():\n",
    "    # Generate prime numbers less than 1000\n",
    "    for num in range(2, 1000):\n",
    "        is_prime = True\n",
    "        # Check if the number is prime\n",
    "        for i in range(2, int(num ** 0.5) + 1):\n",
    "            if num % i == 0:\n",
    "                is_prime = False\n",
    "                break\n",
    "        if is_prime:\n",
    "            yield num\n"
   ]
  },
  {
   "cell_type": "code",
   "execution_count": 10,
   "id": "2ab6d63a-e754-4f13-9a2a-84e681727056",
   "metadata": {},
   "outputs": [
    {
     "name": "stdout",
     "output_type": "stream",
     "text": [
      "2\n",
      "3\n",
      "5\n",
      "7\n",
      "11\n",
      "13\n",
      "17\n",
      "19\n",
      "23\n",
      "29\n",
      "31\n",
      "37\n",
      "41\n",
      "43\n",
      "47\n",
      "53\n",
      "59\n",
      "61\n",
      "67\n",
      "71\n"
     ]
    }
   ],
   "source": [
    "prime_gen = prime_numbers()\n",
    "for i in range(20):\n",
    "    print(next(prime_gen))\n"
   ]
  },
  {
   "cell_type": "code",
   "execution_count": null,
   "id": "a56ac973-337c-4d95-912b-2ee627cb2839",
   "metadata": {},
   "outputs": [],
   "source": []
  }
 ],
 "metadata": {
  "kernelspec": {
   "display_name": "Python 3 (ipykernel)",
   "language": "python",
   "name": "python3"
  },
  "language_info": {
   "codemirror_mode": {
    "name": "ipython",
    "version": 3
   },
   "file_extension": ".py",
   "mimetype": "text/x-python",
   "name": "python",
   "nbconvert_exporter": "python",
   "pygments_lexer": "ipython3",
   "version": "3.10.8"
  }
 },
 "nbformat": 4,
 "nbformat_minor": 5
}
