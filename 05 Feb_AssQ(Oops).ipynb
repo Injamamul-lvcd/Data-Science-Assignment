{
 "cells": [
  {
   "cell_type": "markdown",
   "id": "86e2d4e8-3813-4e59-8b6c-1f93f23cb928",
   "metadata": {},
   "source": [
    "# Q1. Explain Class and Object with respect to Object-Oriented Programming. Give a suitable example."
   ]
  },
  {
   "cell_type": "markdown",
   "id": "fc02b8d4-2fda-487a-a70e-75e78c488c8e",
   "metadata": {},
   "source": [
    "### In object-oriented programming, a class is a blueprint for creating objects that encapsulate data and behavior. It defines the attributes and methods that all objects of the class will have.\n",
    "### On the other hand,An object is real world entity,it has state and behaviour.It is an instance of a class, created by calling its constructor method. It represents a specific instance of the class and has its own set of attribute values.\n",
    "\n",
    "### Let's take an example of a class called Person to explain this concept further. The Person class can have attributes like name, age, gender, and methods like talk(), walk(), eat(). We can create multiple objects of the Person class, each with their own set of values for the attributes.\n",
    "\n",
    "### Here's an example of how to define a Person class and create objects of that class:"
   ]
  },
  {
   "cell_type": "code",
   "execution_count": 2,
   "id": "5837854c-12a9-42d6-a52e-17db99136caf",
   "metadata": {},
   "outputs": [
    {
     "name": "stdout",
     "output_type": "stream",
     "text": [
      "Injamamul\n",
      "5\n",
      "Injamamul says hello..\n",
      "Sahil is walking...\n"
     ]
    }
   ],
   "source": [
    "class Person:\n",
    "    def __init__(self,name,age,gender):\n",
    "        self.name=name\n",
    "        self.age=age\n",
    "        self.gender=gender\n",
    "    def talk(self):\n",
    "        print(f\"{self.name} says hello..\")\n",
    "    def walk(self):\n",
    "        print(f\"{self.name} is walking...\")\n",
    "    def eat(self):\n",
    "        print(f\"{self.name} is eating...\")\n",
    "# Create objects of the Person class\n",
    "person1 = Person(\"Injamamul\", 23, \"male\")\n",
    "person2 = Person(\"Sahil\", 5, \"male\")\n",
    "\n",
    "# Access the attributes of the objects\n",
    "print(person1.name)  # Output: Injamamul\n",
    "print(person2.age)   # Output: 05\n",
    "\n",
    "# Call the methods of the objects\n",
    "person1.talk()  # Output: Injamamul says hello!\n",
    "person2.walk()  # Output: Sahil is walking..."
   ]
  },
  {
   "cell_type": "markdown",
   "id": "4c83b307-4113-4837-b1ec-0d4d72e6b4e1",
   "metadata": {},
   "source": [
    "# Q2. Name the four pillars of OOPs."
   ]
  },
  {
   "cell_type": "markdown",
   "id": "338ac9db-015a-4c71-bb62-bc625429a770",
   "metadata": {},
   "source": [
    "### The 4 pillars of Object oriented programming systems(OOps) are:"
   ]
  },
  {
   "cell_type": "markdown",
   "id": "1290cd10-d3fc-4d3d-9c0c-d84cd98ce119",
   "metadata": {},
   "source": [
    "### 1.Inheritance: Inheritance is the process of creating a new class from an existing class. The new class inherits the attributes and methods of the existing class and can add its own attributes and methods. It helps in achieving code reusability and promotes the creation of a hierarchical structure of classes."
   ]
  },
  {
   "cell_type": "code",
   "execution_count": null,
   "id": "db648175-1fb5-4fd8-b2f8-a3e023459a29",
   "metadata": {},
   "outputs": [],
   "source": []
  }
 ],
 "metadata": {
  "kernelspec": {
   "display_name": "Python 3 (ipykernel)",
   "language": "python",
   "name": "python3"
  },
  "language_info": {
   "codemirror_mode": {
    "name": "ipython",
    "version": 3
   },
   "file_extension": ".py",
   "mimetype": "text/x-python",
   "name": "python",
   "nbconvert_exporter": "python",
   "pygments_lexer": "ipython3",
   "version": "3.10.8"
  }
 },
 "nbformat": 4,
 "nbformat_minor": 5
}
