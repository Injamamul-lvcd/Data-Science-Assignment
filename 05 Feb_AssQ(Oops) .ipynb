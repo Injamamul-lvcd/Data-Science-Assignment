{
 "cells": [
  {
   "cell_type": "markdown",
   "id": "fc02b8d4-2fda-487a-a70e-75e78c488c8e",
   "metadata": {
    "tags": []
   },
   "source": [
    "### Q1. Explain Class and Object with respect to Object-Oriented Programming. Give a suitable example.\n",
    "#### Ans: In object-oriented programming, a class is a blueprint for creating objects that encapsulate data and behavior. It defines the attributes and methods that all objects of the class will have.\n",
    "#### On the other hand,An object is real world entity,it has state and behaviour.It is an instance of a class, created by calling its constructor method. It represents a specific instance of the class and has its own set of attribute values.\n",
    "\n",
    "#### Let's take an example of a class called Person to explain this concept further. The Person class can have attributes like name, age, gender, and methods like talk(), walk(), eat(). We can create multiple objects of the Person class, each with their own set of values for the attributes.\n",
    "\n",
    "#### Here's an example of how to define a Person class and create objects of that class:"
   ]
  },
  {
   "cell_type": "code",
   "execution_count": 2,
   "id": "5837854c-12a9-42d6-a52e-17db99136caf",
   "metadata": {},
   "outputs": [
    {
     "name": "stdout",
     "output_type": "stream",
     "text": [
      "Injamamul\n",
      "5\n",
      "Injamamul says hello..\n",
      "Sahil is walking...\n"
     ]
    }
   ],
   "source": [
    "class Person:\n",
    "    def __init__(self,name,age,gender):\n",
    "        self.name=name\n",
    "        self.age=age\n",
    "        self.gender=gender\n",
    "    def talk(self):\n",
    "        print(f\"{self.name} says hello..\")\n",
    "    def walk(self):\n",
    "        print(f\"{self.name} is walking...\")\n",
    "    def eat(self):\n",
    "        print(f\"{self.name} is eating...\")\n",
    "# Create objects of the Person class\n",
    "person1 = Person(\"Injamamul\", 23, \"male\")\n",
    "person2 = Person(\"Sahil\", 5, \"male\")\n",
    "\n",
    "# Access the attributes of the objects\n",
    "print(person1.name)  # Output: Injamamul\n",
    "print(person2.age)   # Output: 05\n",
    "\n",
    "# Call the methods of the objects\n",
    "person1.talk()  # Output: Injamamul says hello!\n",
    "person2.walk()  # Output: Sahil is walking..."
   ]
  },
  {
   "cell_type": "markdown",
   "id": "4c83b307-4113-4837-b1ec-0d4d72e6b4e1",
   "metadata": {},
   "source": [
    "### Q2. Name the four pillars of OOPs."
   ]
  },
  {
   "cell_type": "markdown",
   "id": "338ac9db-015a-4c71-bb62-bc625429a770",
   "metadata": {},
   "source": [
    "#### Ans: The 4 pillars of Object oriented programming systems(OOps) are:"
   ]
  },
  {
   "cell_type": "markdown",
   "id": "1290cd10-d3fc-4d3d-9c0c-d84cd98ce119",
   "metadata": {},
   "source": [
    "#### 1.Inheritance: Inheritance is the process of creating a new class from an existing class. The new class inherits the attributes and methods of the existing class and can add its own attributes and methods. It helps in achieving code reusability and promotes the creation of a hierarchical structure of classes."
   ]
  },
  {
   "cell_type": "markdown",
   "id": "490db443-c633-411e-8ca9-b980d5259132",
   "metadata": {},
   "source": [
    "#### 2.Polymorphism: Polymorphism is the ability of an object to take on multiple forms. In OOP, polymorphism is achieved through method overriding and method overloading. Method overriding allows a subclass to provide its own implementation of a method that is already defined in its superclass, while method overloading allows multiple methods with the same name but different parameters to coexist in the same class."
   ]
  },
  {
   "cell_type": "markdown",
   "id": "c8d44b97-f610-49c6-b293-22ae851a1057",
   "metadata": {},
   "source": [
    "#### 3.Abstraction: Abstraction is the process of hiding the implementation details and showing only the necessary features of the object. It helps in achieving modularity, maintainability, and reduces the complexity of the code."
   ]
  },
  {
   "cell_type": "markdown",
   "id": "6426ce18-0f2d-483b-8001-7aa2871b1fdf",
   "metadata": {},
   "source": [
    "#### 4.Encapsulation: Encapsulation is the process of hiding the internal details of an object and exposing only the necessary information to the outside world. This helps in achieving data security and prevents accidental modifications to the data."
   ]
  },
  {
   "cell_type": "markdown",
   "id": "c69d4efb-8951-4d7c-8e9a-c38286090414",
   "metadata": {},
   "source": [
    "### Q3. Explain why the __init__() function is used. Give a suitable example."
   ]
  },
  {
   "cell_type": "markdown",
   "id": "36c307b5-f539-479a-a6b1-d1482bd9f452",
   "metadata": {},
   "source": [
    "#### The __init__() function is used to initialize the state of an object when it is created. It is called automatically every time a new object is created from a class. The __init__() function can be used to set the initial values of the object's attributes, or to perform any other necessary initialization.\n",
    "#### For example, the following code defines a class called Person with an __init__() function that sets the initial values of the name and age attributes:"
   ]
  },
  {
   "cell_type": "code",
   "execution_count": 1,
   "id": "6ca5d3a5-64a1-4cf1-b3bd-977389cbdd11",
   "metadata": {},
   "outputs": [
    {
     "name": "stdout",
     "output_type": "stream",
     "text": [
      "John Doe\n",
      "30\n"
     ]
    }
   ],
   "source": [
    "class Person:\n",
    "    def __init__(self, name, age):\n",
    "        self.name = name\n",
    "        self.age = age\n",
    "\n",
    "person = Person(\"injamamul hoque\", 23)\n",
    "\n",
    "print(person.name) \n",
    "print(person.age)  \n"
   ]
  },
  {
   "cell_type": "markdown",
   "id": "cfa4227f-d2c2-4c3f-823c-015dde0a1bfe",
   "metadata": {},
   "source": [
    "### Q4. Why self is used in OOPs?"
   ]
  },
  {
   "cell_type": "markdown",
   "id": "349f3572-1a34-43be-92b6-3cbb6f9b845c",
   "metadata": {},
   "source": [
    "#### The self keyword is used in object-oriented programming (OOP) to refer to the current instance of the class. It is used in methods to access the attributes and methods of the class.\n",
    "#### In Python, methods are functions that are defined within a class. When a method is called, the self keyword is automatically passed as the first argument. This allows the method to access the attributes and methods of the class.\n",
    "#### For example, the following code defines a class called Person with a method called greet():"
   ]
  },
  {
   "cell_type": "markdown",
   "id": "0fb250c9-87e4-40fa-9cab-e7ff7256dc65",
   "metadata": {},
   "source": [
    "### Q5.What is inheritance? Give an example for each type of inheritance."
   ]
  },
  {
   "cell_type": "markdown",
   "id": "9ddd966c-eb04-47fa-9665-d84c4b50f173",
   "metadata": {},
   "source": [
    "#### Inheritance is a fundamental concept in object-oriented programming (OOP) where a class (subclass or derived class) can acquire the properties and behaviors (attributes and methods) of another class (superclass or base class). It allows code reuse, abstraction, and hierarchy in the structure of the classes.\n",
    "\n",
    "#### There are several types of inheritance:\n",
    "\n",
    "#### Single Inheritance: In single inheritance, a class can inherit from only one superclass."
   ]
  },
  {
   "cell_type": "code",
   "execution_count": 1,
   "id": "5be41fed-2c87-4196-8ad8-21c32825b17c",
   "metadata": {},
   "outputs": [
    {
     "name": "stdout",
     "output_type": "stream",
     "text": [
      "Dog barks.\n"
     ]
    }
   ],
   "source": [
    "class Animal:\n",
    "    def speak(self):\n",
    "        print(\"Animal speaks.\")\n",
    "\n",
    "class Dog(Animal):\n",
    "    def speak(self):\n",
    "        print(\"Dog barks.\")\n",
    "\n",
    "dog = Dog()\n",
    "dog.speak()  \n"
   ]
  },
  {
   "cell_type": "markdown",
   "id": "aa4e01cd-8c9e-4d9b-99d3-e28b320182d0",
   "metadata": {},
   "source": [
    "#### In this example, the Dog class inherits from the Animal class, and the Dog class overrides the speak method of the Animal class with its own implementation.\n",
    "#### Multiple Inheritance: In multiple inheritance, a class can inherit from two or more superclasses. This allows the subclass to combine the attributes and behaviors of multiple classes."
   ]
  },
  {
   "cell_type": "code",
   "execution_count": 2,
   "id": "5d81bfc1-0a1d-40e5-9303-81a9f7151371",
   "metadata": {},
   "outputs": [
    {
     "name": "stdout",
     "output_type": "stream",
     "text": [
      "Can fly.\n",
      "Can swim.\n"
     ]
    }
   ],
   "source": [
    "class Flyable:\n",
    "    def fly(self):\n",
    "        print(\"Can fly.\")\n",
    "\n",
    "class Swimmable:\n",
    "    def swim(self):\n",
    "        print(\"Can swim.\")\n",
    "\n",
    "class FlyingFish(Flyable, Swimmable):\n",
    "    pass\n",
    "\n",
    "flying_fish = FlyingFish()\n",
    "flying_fish.fly() \n",
    "flying_fish.swim() "
   ]
  },
  {
   "cell_type": "markdown",
   "id": "a5cacf46-1dfd-4119-a2cc-1590442d7ce8",
   "metadata": {},
   "source": [
    "#### Here, the FlyingFish class inherits from both the Flyable and Swimmable classes, allowing instances of FlyingFish to have both flying and swimming abilities.\n",
    "#### Multi-level Inheritance: In multi-level inheritance, a class inherits from another class, which in turn inherits from another class. It forms a chain of inheritance."
   ]
  },
  {
   "cell_type": "code",
   "execution_count": 3,
   "id": "f3ad0f53-1984-4a8f-ad51-89fca0592f0d",
   "metadata": {},
   "outputs": [
    {
     "name": "stdout",
     "output_type": "stream",
     "text": [
      "Vehicle is driving.\n"
     ]
    }
   ],
   "source": [
    "class Vehicle:\n",
    "    def drive(self):\n",
    "        print(\"Vehicle is driving.\")\n",
    "\n",
    "class Car(Vehicle):\n",
    "    pass\n",
    "\n",
    "class ElectricCar(Car):\n",
    "    pass\n",
    "\n",
    "electric_car = ElectricCar()\n",
    "electric_car.drive() "
   ]
  },
  {
   "cell_type": "markdown",
   "id": "bf41eddc-03a6-4967-84ed-af6c33d82031",
   "metadata": {},
   "source": [
    "#### In this example, the ElectricCar class indirectly inherits from the Vehicle class through the Car class. The ElectricCar class can access the drive method from the Vehicle class.\n",
    "#### Hierarchical Inheritance: In hierarchical inheritance, multiple subclasses inherit from the same superclass."
   ]
  },
  {
   "cell_type": "code",
   "execution_count": 4,
   "id": "758aff77-291b-4baa-9343-cdbaad226ef2",
   "metadata": {},
   "outputs": [
    {
     "name": "stdout",
     "output_type": "stream",
     "text": [
      "Drawing shape.\n",
      "Drawing shape.\n"
     ]
    }
   ],
   "source": [
    "class Shape:\n",
    "    def draw(self):\n",
    "        print(\"Drawing shape.\")\n",
    "\n",
    "class Circle(Shape):\n",
    "    pass\n",
    "\n",
    "class Square(Shape):\n",
    "    pass\n",
    "\n",
    "circle = Circle()\n",
    "square = Square()\n",
    "circle.draw()  \n",
    "square.draw()  \n"
   ]
  },
  {
   "cell_type": "code",
   "execution_count": null,
   "id": "f9c3677a-f97c-43ea-8216-67f04dbcde4b",
   "metadata": {},
   "outputs": [],
   "source": [
    "#### "
   ]
  }
 ],
 "metadata": {
  "kernelspec": {
   "display_name": "Python 3 (ipykernel)",
   "language": "python",
   "name": "python3"
  },
  "language_info": {
   "codemirror_mode": {
    "name": "ipython",
    "version": 3
   },
   "file_extension": ".py",
   "mimetype": "text/x-python",
   "name": "python",
   "nbconvert_exporter": "python",
   "pygments_lexer": "ipython3",
   "version": "3.10.8"
  }
 },
 "nbformat": 4,
 "nbformat_minor": 5
}
