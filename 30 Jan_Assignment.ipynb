{
 "cells": [
  {
   "cell_type": "markdown",
   "id": "85cb38a4-e832-4083-a733-26c0563eceea",
   "metadata": {},
   "source": [
    "### Q3.Take the percentage from user and show the grade."
   ]
  },
  {
   "cell_type": "code",
   "execution_count": 1,
   "id": "14b5f406-64dd-4cb1-8eb6-4e6e0b161a39",
   "metadata": {},
   "outputs": [
    {
     "name": "stdin",
     "output_type": "stream",
     "text": [
      "enter the percentage : 85\n"
     ]
    },
    {
     "name": "stdout",
     "output_type": "stream",
     "text": [
      "your grade is B\n"
     ]
    }
   ],
   "source": [
    "n=int(input(\"enter the percentage :\"))\n",
    "if n>90 :\n",
    "    print(\"your grade is A\")\n",
    "elif n>80 and n<=90:\n",
    "    print(\"your grade is B\")\n",
    "elif n>=60 and n<=80:\n",
    "    print(\"your grade is C\")\n",
    "else:\n",
    "    print(\"your grade is D\")"
   ]
  },
  {
   "cell_type": "markdown",
   "id": "ef3cc5a1-e6d2-4b89-801a-ca4694607079",
   "metadata": {},
   "source": [
    "### 2.Write a program to accept the cost price of a bike and display the tax to be paid according to the following criteria:"
   ]
  },
  {
   "cell_type": "code",
   "execution_count": 2,
   "id": "3affbff3-a0c5-46b6-98c7-50339ea0849c",
   "metadata": {},
   "outputs": [
    {
     "name": "stdin",
     "output_type": "stream",
     "text": [
      "enter the cost price of the bike :  56000\n"
     ]
    },
    {
     "name": "stdout",
     "output_type": "stream",
     "text": [
      "5600.0\n"
     ]
    }
   ],
   "source": [
    "n=int(input(\"enter the cost price of the bike : \"))\n",
    "if n>100000:\n",
    "    tax=n*(15/100)\n",
    "    print(tax)\n",
    "elif n>50000 and n<=100000:\n",
    "    tax=n*(10/100)\n",
    "    print(tax)\n",
    "else:\n",
    "    tax=n*(5/100)\n",
    "    print(tax)"
   ]
  },
  {
   "cell_type": "markdown",
   "id": "2bcdb097-e66c-4991-b79f-f616a825e5f5",
   "metadata": {},
   "source": [
    "### 3.Accept any city from the user and display monuments of that city."
   ]
  },
  {
   "cell_type": "code",
   "execution_count": 3,
   "id": "7362b789-9fab-4cc6-95ab-573401c5ba4c",
   "metadata": {},
   "outputs": [
    {
     "name": "stdin",
     "output_type": "stream",
     "text": [
      "enter the city :  Agra\n"
     ]
    },
    {
     "name": "stdout",
     "output_type": "stream",
     "text": [
      "Taj Mahal\n"
     ]
    }
   ],
   "source": [
    "city=input(\"enter the city : \")\n",
    "if city=='Delhi':\n",
    "    print(\"Red Fort\")\n",
    "elif city=='Agra':\n",
    "    print(\"Taj Mahal\")\n",
    "elif city=='Jaipur':\n",
    "    print(\"Jal Mahal\")"
   ]
  },
  {
   "cell_type": "markdown",
   "id": "d0568180-0ec9-44d2-9950-cffe73273822",
   "metadata": {},
   "source": [
    "### 4.Check how many times a given number can be divided by 3 before it is less than or equal to 10."
   ]
  },
  {
   "cell_type": "code",
   "execution_count": 9,
   "id": "1f2c1ba5-50b7-4e9b-b999-396ae27e8f8c",
   "metadata": {},
   "outputs": [
    {
     "name": "stdin",
     "output_type": "stream",
     "text": [
      "enter the number :  30\n"
     ]
    },
    {
     "name": "stdout",
     "output_type": "stream",
     "text": [
      "the required times is 2\n"
     ]
    }
   ],
   "source": [
    "def count_time(num):\n",
    "    count=0\n",
    "    while num>=10:\n",
    "        num%3==0\n",
    "        count+=1\n",
    "        num=num//3\n",
    "    return count\n",
    "    \n",
    "def main():\n",
    "    num=int(input(\"enter the number : \"))\n",
    "    print(f\"the required times is {count_time(num)}\")\n",
    "if __name__==\"__main__\":\n",
    "    main()"
   ]
  },
  {
   "cell_type": "markdown",
   "id": "aa396d56-842b-40db-b091-a3aea3f89216",
   "metadata": {},
   "source": [
    "### 5.Why and When to Use While Loop in python give a detailed description with example."
   ]
  },
  {
   "cell_type": "markdown",
   "id": "0213e36c-243d-4bcf-9eb9-b6ae5d30453f",
   "metadata": {},
   "source": [
    "##### Ans: A while loop in Python is used when you want to repeatedly execute a block of code as long as a certain condition is true. It allows you to create a loop that continues until the condition evaluates to False. Here's the basic structure of a while loop:"
   ]
  },
  {
   "cell_type": "code",
   "execution_count": 10,
   "id": "88bb5f31-7c65-44a8-9d75-49ae51154032",
   "metadata": {},
   "outputs": [
    {
     "name": "stdout",
     "output_type": "stream",
     "text": [
      "1\n",
      "2\n",
      "3\n",
      "4\n",
      "5\n"
     ]
    }
   ],
   "source": [
    "count = 1\n",
    "while count <= 5:\n",
    "    print(count)\n",
    "    count += 1"
   ]
  },
  {
   "cell_type": "markdown",
   "id": "3c23a264-35cb-42b9-8dc1-884ee02287f4",
   "metadata": {},
   "source": [
    "#### Here some situation where we use pytho while loop\n",
    "#### User Input Validation: You can use a while loop to repeatedly ask the user for input until they provide valid data."
   ]
  },
  {
   "cell_type": "code",
   "execution_count": 11,
   "id": "8a78eaad-081d-4f51-8f5f-ef52bd5e0768",
   "metadata": {},
   "outputs": [
    {
     "name": "stdin",
     "output_type": "stream",
     "text": [
      "Enter your age:  lj\n"
     ]
    },
    {
     "name": "stdout",
     "output_type": "stream",
     "text": [
      "Invalid input. Please enter a valid age.\n"
     ]
    },
    {
     "name": "stdin",
     "output_type": "stream",
     "text": [
      "Enter your age:  kk\n"
     ]
    },
    {
     "name": "stdout",
     "output_type": "stream",
     "text": [
      "Invalid input. Please enter a valid age.\n"
     ]
    },
    {
     "name": "stdin",
     "output_type": "stream",
     "text": [
      "Enter your age:  2\n"
     ]
    }
   ],
   "source": [
    "while True:\n",
    "    age = input(\"Enter your age: \")\n",
    "    if age.isdigit():\n",
    "        break\n",
    "    else:\n",
    "        print(\"Invalid input. Please enter a valid age.\")\n"
   ]
  },
  {
   "cell_type": "markdown",
   "id": "86b581e8-6456-4ed1-8d28-43ab724f39b7",
   "metadata": {},
   "source": [
    "#### Game Loop: In game development, you might use a while loop to create a game loop that continuously updates the game state and renders the graphics until a game-over condition is met."
   ]
  },
  {
   "cell_type": "code",
   "execution_count": null,
   "id": "a441a9f6-c7da-4bbf-8a3c-8f819ca4d33b",
   "metadata": {},
   "outputs": [],
   "source": [
    "game_over = False\n",
    "while not game_over:\n",
    "    # Update game state\n",
    "    # Render graphics\n",
    "    # Check for game-over condition\n",
    "    # ..."
   ]
  },
  {
   "cell_type": "markdown",
   "id": "27d05631-5e19-45ce-a993-f219e952e68b",
   "metadata": {},
   "source": [
    "#### Polling: In applications that interact with external devices or resources, you might use a while loop to continually poll for status changes or new data."
   ]
  },
  {
   "cell_type": "code",
   "execution_count": null,
   "id": "a8e3667b-1a26-46cb-879e-9ed0394716aa",
   "metadata": {},
   "outputs": [],
   "source": [
    "while not data_available():\n",
    "    # Poll for data\n",
    "    # ..."
   ]
  },
  {
   "cell_type": "markdown",
   "id": "bc870b2b-0cb6-41ef-accc-3ab5962fa7de",
   "metadata": {},
   "source": [
    "#### While while loops provide flexibility, it's important to ensure that the loop termination condition will eventually become False, otherwise, you might end up in an infinite loop."
   ]
  },
  {
   "cell_type": "markdown",
   "id": "8fb219ee-e5d3-4bbd-83d6-587d0ad809c0",
   "metadata": {},
   "source": [
    "### 6.Use nested while loop to print 3 different pattern."
   ]
  },
  {
   "cell_type": "code",
   "execution_count": 12,
   "id": "979acc8b-4bca-4ad6-8caf-c86a2cf73fcb",
   "metadata": {},
   "outputs": [
    {
     "name": "stdout",
     "output_type": "stream",
     "text": [
      "*\n",
      "**\n",
      "***\n",
      "****\n",
      "*****\n"
     ]
    }
   ],
   "source": [
    "row = 1\n",
    "while row <= 5:\n",
    "    col = 1\n",
    "    while col <= row:\n",
    "        print(\"*\", end=\"\")\n",
    "        col += 1\n",
    "    print()\n",
    "    row += 1\n"
   ]
  },
  {
   "cell_type": "code",
   "execution_count": 13,
   "id": "2811fbb8-34d4-4462-9fe9-f938d6072c4f",
   "metadata": {},
   "outputs": [
    {
     "name": "stdout",
     "output_type": "stream",
     "text": [
      "*****\n",
      "*   *\n",
      "*   *\n",
      "*   *\n",
      "*****\n"
     ]
    }
   ],
   "source": [
    "row = 1\n",
    "while row <= 5:\n",
    "    col = 1\n",
    "    while col <= 5:\n",
    "        if row == 1 or row == 5 or col == 1 or col == 5:\n",
    "            print(\"*\", end=\"\")\n",
    "        else:\n",
    "            print(\" \", end=\"\")\n",
    "        col += 1\n",
    "    print()\n",
    "    row += 1\n"
   ]
  },
  {
   "cell_type": "code",
   "execution_count": 14,
   "id": "08c7ee35-9fef-4eed-b521-d86cf04441e9",
   "metadata": {},
   "outputs": [
    {
     "name": "stdout",
     "output_type": "stream",
     "text": [
      "*****\n",
      "****\n",
      "***\n",
      "**\n",
      "*\n"
     ]
    }
   ],
   "source": [
    "row = 5\n",
    "while row >= 1:\n",
    "    col = 1\n",
    "    while col <= row:\n",
    "        print(\"*\", end=\"\")\n",
    "        col += 1\n",
    "    print()\n",
    "    row -= 1\n"
   ]
  },
  {
   "cell_type": "markdown",
   "id": "47c438e2-5e68-4b44-a59c-c95821023ef5",
   "metadata": {},
   "source": [
    "### 7.Reverse a while loop to display numbers from 10 to 1"
   ]
  },
  {
   "cell_type": "code",
   "execution_count": 15,
   "id": "135fc083-021f-406d-9cd0-77b041dac712",
   "metadata": {},
   "outputs": [
    {
     "name": "stdout",
     "output_type": "stream",
     "text": [
      "10\n",
      "9\n",
      "8\n",
      "7\n",
      "6\n",
      "5\n",
      "4\n",
      "3\n",
      "2\n",
      "1\n"
     ]
    }
   ],
   "source": [
    "num=10\n",
    "while num>=1:\n",
    "    print(num)\n",
    "    num-=1"
   ]
  },
  {
   "cell_type": "code",
   "execution_count": null,
   "id": "6fe1b7ac-5a2a-4c4b-a977-1f5100ea0f86",
   "metadata": {},
   "outputs": [],
   "source": []
  }
 ],
 "metadata": {
  "kernelspec": {
   "display_name": "Python 3 (ipykernel)",
   "language": "python",
   "name": "python3"
  },
  "language_info": {
   "codemirror_mode": {
    "name": "ipython",
    "version": 3
   },
   "file_extension": ".py",
   "mimetype": "text/x-python",
   "name": "python",
   "nbconvert_exporter": "python",
   "pygments_lexer": "ipython3",
   "version": "3.10.8"
  }
 },
 "nbformat": 4,
 "nbformat_minor": 5
}
