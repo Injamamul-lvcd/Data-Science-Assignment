{
 "cells": [
  {
   "cell_type": "markdown",
   "id": "c389ea90-8eb4-42c8-b4aa-525e30973f22",
   "metadata": {},
   "source": [
    "### Q1. Create a Pandas Series that contains the following data: 4, 8, 15, 16, 23, and 42. Then, print the series."
   ]
  },
  {
   "cell_type": "code",
   "execution_count": 1,
   "id": "27acb00c-08c0-482d-a5fd-7051feb0fd6c",
   "metadata": {},
   "outputs": [],
   "source": [
    "import pandas as pd\n",
    "data=[4,8,15,16,23,42]\n",
    "series=pd.Series(data)"
   ]
  },
  {
   "cell_type": "markdown",
   "id": "02f67cd5-fb4c-4d87-8251-1d6c3723f253",
   "metadata": {},
   "source": [
    "print(series)"
   ]
  },
  {
   "cell_type": "markdown",
   "id": "3b660901-74ac-4dca-aed3-af7d8543e87a",
   "metadata": {},
   "source": [
    "### Q2. Create a variable of list type containing 10 elements in it, and apply pandas.Series function on the variable print it."
   ]
  },
  {
   "cell_type": "code",
   "execution_count": 4,
   "id": "c94723b9-ca52-471d-b5cf-8f84c6f51705",
   "metadata": {},
   "outputs": [
    {
     "name": "stdout",
     "output_type": "stream",
     "text": [
      "0     2\n",
      "1     3\n",
      "2     5\n",
      "3     9\n",
      "4     8\n",
      "5     4\n",
      "6     6\n",
      "7     7\n",
      "8    23\n",
      "9    45\n",
      "dtype: int64\n"
     ]
    }
   ],
   "source": [
    "data=[2,3,5,9,8,4,6,7,23,45]\n",
    "series=pd.Series(data)\n",
    "print(series)"
   ]
  },
  {
   "cell_type": "markdown",
   "id": "2d9f8659-4e0e-46c7-9497-2825d41bfe0b",
   "metadata": {},
   "source": [
    "### Q3. Create a Pandas DataFrame that contains the following data:"
   ]
  },
  {
   "cell_type": "code",
   "execution_count": 5,
   "id": "2203eb4f-c500-4d38-9f08-30265399f521",
   "metadata": {},
   "outputs": [
    {
     "name": "stdout",
     "output_type": "stream",
     "text": [
      "    name  age  gender\n",
      "0  alice   25  female\n",
      "1    bob   30    male\n",
      "2  clier   27  female\n"
     ]
    }
   ],
   "source": [
    "data={\"name\":['alice','bob','clier'],\"age\":[25,30,27],\"gender\":[\"female\",\"male\",\"female\"]}\n",
    "df=pd.DataFrame(data)\n",
    "print(df)"
   ]
  },
  {
   "cell_type": "markdown",
   "id": "c20c2ede-d150-441c-bab2-85007ed9bc01",
   "metadata": {},
   "source": [
    "### Q4. What is ‘DataFrame’ in pandas and how is it different from pandas.series? Explain with an example."
   ]
  },
  {
   "cell_type": "markdown",
   "id": "763a73cd-c82d-445d-9462-b732a44d992d",
   "metadata": {},
   "source": [
    "#### A DataFrame in Pandas is a 2-dimensional labeled data structure with rows and columns. It is similar to a spreadsheet or a SQL table. A   Series in Pandas is a 1-dimensional labeled array. It is similar to a Python list with an index.\n",
    " ####   The main difference between a DataFrame and a Series is that a DataFrame has multiple columns, while a Series only has one column. Each column in a DataFrame is a Series.\n",
    "#### For example, the following code creates a DataFrame with two columns, Name and Age:"
   ]
  },
  {
   "cell_type": "code",
   "execution_count": 7,
   "id": "e9359e50-4aea-442e-b7fd-4aaf7e619b14",
   "metadata": {},
   "outputs": [
    {
     "name": "stdout",
     "output_type": "stream",
     "text": [
      "           Name  Age\n",
      "0      John Doe   25\n",
      "1      Jane Doe   30\n",
      "2   Peter Smith   40\n",
      "3  Mary Johnson   50\n"
     ]
    }
   ],
   "source": [
    "data = {'Name': ['John Doe', 'Jane Doe', 'Peter Smith', 'Mary Johnson'], 'Age': [25, 30, 40, 50]}\n",
    "df = pd.DataFrame(data)\n",
    "print(df)"
   ]
  },
  {
   "cell_type": "markdown",
   "id": "4dd2ce4b-1734-45e0-94f3-632f57aea44f",
   "metadata": {},
   "source": []
  },
  {
   "cell_type": "code",
   "execution_count": 9,
   "id": "e645aeb5-b764-4f4f-9f42-a5152929c005",
   "metadata": {},
   "outputs": [
    {
     "name": "stdout",
     "output_type": "stream",
     "text": [
      "0    1\n",
      "1    3\n",
      "2    4\n",
      "3    6\n",
      "4    5\n",
      "5    7\n",
      "dtype: int64\n"
     ]
    }
   ],
   "source": [
    "data=[1,3,4,6,5,7]\n",
    "series=pd.Series(data)\n",
    "print(series)"
   ]
  },
  {
   "cell_type": "markdown",
   "id": "e29d61e5-b60d-481e-8400-0e5d52e3a2c6",
   "metadata": {},
   "source": [
    "### Q5. What are some common functions you can use to manipulate data in a Pandas DataFrame? Can you give an example of when you might use one of these functions?"
   ]
  },
  {
   "cell_type": "markdown",
   "id": "993f47cc-4bef-4a28-a777-c61708c35c8f",
   "metadata": {},
   "source": [
    "#### here are some common functions you can use to manipulate data in a Pandas DataFrame:\n",
    "#### head() : This function returns the first few rows of a DataFrame. This can be useful for getting a quick overview of the data.by default it provide first 5 record.\n",
    "#### tail() : This function returns the last few rows of a DataFrame. This can be useful for getting a quick overview of the data at the end.similarly it also provide last 5 record by default.\n",
    "#### sort_values() : This function sorts a DataFrame by one or more columns. This can be useful for organizing the data in a particular way.\n",
    "#### filter() : This function selects rows from a DataFrame that meet certain criteria. This can be useful for filtering out unwanted data.\n",
    "#### apply() : This function applies a function to each row or column of a DataFrame. This can be useful for transforming the data in a particular way.\n",
    "#### replace() : This function replaces values in a DataFrame with new values. This can be useful for correcting errors or changing the format of the data.\n",
    "#### drop() : This function drops rows or columns from a DataFrame. This can be useful for removing unwanted data.\n",
    "#### merge() : This function merges two or more DataFrames together. This can be useful for combining data from different sources.\n",
    "#### groupby() : This function groups rows of a DataFrame together based on a common value. This can be useful for summarizing the data or performing statistical analysis.\n",
    "#### Here is an example of how you might use the sort_values() function:"
   ]
  },
  {
   "cell_type": "code",
   "execution_count": 15,
   "id": "848f909b-3347-481e-867f-250695ec8192",
   "metadata": {},
   "outputs": [
    {
     "name": "stdout",
     "output_type": "stream",
     "text": [
      "    name  age  gender\n",
      "0  alice   25  female\n",
      "2  clier   27  female\n",
      "1    bob   30    male\n"
     ]
    }
   ],
   "source": [
    "df = pd.DataFrame({\"name\":['alice','bob','clier'],\"age\":[25,30,27],\"gender\":[\"female\",\"male\",\"female\"]})\n",
    "df = df.sort_values(by=['age'], ascending=True)\n",
    "print(df)"
   ]
  },
  {
   "cell_type": "markdown",
   "id": "52363140-5306-4d9c-a90a-3db527d695ba",
   "metadata": {},
   "source": [
    "### Q6. Which of the following is mutable in nature Series, DataFrame, Panel?"
   ]
  },
  {
   "cell_type": "markdown",
   "id": "08b6ba9c-660b-4b01-8835-a00564250ff9",
   "metadata": {},
   "source": [
    "#### All Pandas data structures are value-mutable (the values they contain can be altered) but not always size-mutable.\n",
    "#### Series is a one-dimensional array-like object with labeled data. It is mutable in nature, i.e., the values of the Series can be changed, but the size of the Series cannot be changed.\n",
    "#### DataFrame is a two-dimensional tabular data structure with labeled data. It is also mutable in nature, i.e., the values of the DataFrame can be changed, and the size of the DataFrame can be changed by adding or removing rows or columns.\n",
    "#### Panel is a three-dimensional array-like object with labeled data. It is also mutable in nature, i.e., the values of the Panel can be changed, and the size of the Panel can be changed by adding or removing rows, columns, or layers.\n",
    "#### Therefore, Series, DataFrame, and Panel are all mutable in nature.\n",
    "#### Here is an example of how you can change the values of a Series:"
   ]
  },
  {
   "cell_type": "code",
   "execution_count": 17,
   "id": "93f9456c-c794-4ff3-8b19-e5ae9858676d",
   "metadata": {},
   "outputs": [
    {
     "name": "stdout",
     "output_type": "stream",
     "text": [
      "0    10\n",
      "1     2\n",
      "2     3\n",
      "3     4\n",
      "4     5\n",
      "dtype: int64\n"
     ]
    }
   ],
   "source": [
    "s = pd.Series([1, 2, 3, 4, 5])\n",
    "s.loc[0] = 10\n",
    "print(s)"
   ]
  },
  {
   "cell_type": "markdown",
   "id": "ec726866-7f63-4135-8e5f-c0bac04d584e",
   "metadata": {},
   "source": [
    "### Q7. Create a DataFrame using multiple Series. Explain with an example."
   ]
  },
  {
   "cell_type": "code",
   "execution_count": 18,
   "id": "f860742f-f22c-42a9-bd2e-1ed91c5d28a6",
   "metadata": {},
   "outputs": [
    {
     "name": "stdout",
     "output_type": "stream",
     "text": [
      "             0      1     2      3     4\n",
      "Numbers      1      2     3      4     5\n",
      "Letters      A      B     C      D     E\n",
      "Booleans  True  False  True  False  True\n"
     ]
    }
   ],
   "source": [
    "s1 = pd.Series([1, 2, 3, 4, 5], name='Numbers')\n",
    "s2 = pd.Series(['A', 'B', 'C', 'D', 'E'], name='Letters')\n",
    "s3 = pd.Series([True, False, True, False, True], name='Booleans')\n",
    "df = pd.DataFrame([s1, s2, s3])\n",
    "print(df)"
   ]
  },
  {
   "cell_type": "markdown",
   "id": "31f68c81-06b4-4586-95a1-9290fa720820",
   "metadata": {},
   "source": [
    "#### Here three Series, s1, s2, and s3. The s1 Series contains the numbers 1, 2, 3, 4, and 5. The s2 Series contains the letters A, B, C, D, and E. The s3 Series contains the Boolean values True, False, True, False, and True.\n",
    "### The df DataFrame is created by passing the three Series to the pd.DataFrame() function. The pd.DataFrame() function automatically assigns the names of the Series to the columns of the DataFrame."
   ]
  },
  {
   "cell_type": "code",
   "execution_count": null,
   "id": "5cfde9bc-b2d2-44e0-ab09-e0176556cbf1",
   "metadata": {},
   "outputs": [],
   "source": []
  }
 ],
 "metadata": {
  "kernelspec": {
   "display_name": "Python 3 (ipykernel)",
   "language": "python",
   "name": "python3"
  },
  "language_info": {
   "codemirror_mode": {
    "name": "ipython",
    "version": 3
   },
   "file_extension": ".py",
   "mimetype": "text/x-python",
   "name": "python",
   "nbconvert_exporter": "python",
   "pygments_lexer": "ipython3",
   "version": "3.10.8"
  }
 },
 "nbformat": 4,
 "nbformat_minor": 5
}
