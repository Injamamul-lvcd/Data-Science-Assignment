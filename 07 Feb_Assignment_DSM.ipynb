{
 "cells": [
  {
   "cell_type": "markdown",
   "id": "cfd2c1e4-f4af-462a-b84e-da30d18fbfbf",
   "metadata": {},
   "source": [
    "### Q1. You are writing code for a company. The requirement of the company is that you create a python \n",
    "### function that will check whether the password entered by the user is correct or not. The function should \n",
    "### take the password as input and return the string “Valid Password” if the entered password follows the \n",
    "### below-given password guidelines else it should return “Invalid Password”.\n",
    "### Note: 1. The Password should contain at least two uppercase letters and at least two lowercase letters.\n",
    "### 2. The Password should contain at least a number and three special characters.\n",
    "### 3. The length of the password should be 10 characters long."
   ]
  },
  {
   "cell_type": "code",
   "execution_count": 2,
   "id": "3db1bf9c-3e7b-43b7-8f86-b0246976e3a7",
   "metadata": {},
   "outputs": [
    {
     "name": "stdin",
     "output_type": "stream",
     "text": [
      "enter the password :  injamamulASS2\n"
     ]
    },
    {
     "name": "stdout",
     "output_type": "stream",
     "text": [
      "Invalid Password\n"
     ]
    }
   ],
   "source": [
    "def check_password(password):\n",
    "    upper_count=0\n",
    "    lower_count=0\n",
    "    num_count=0\n",
    "    special_count=0\n",
    "    for char in password:\n",
    "        if char.isupper():\n",
    "            upper_count+=1\n",
    "        elif char.islower():\n",
    "            lower_count+=1\n",
    "        elif char.isdigit():\n",
    "            num_count+=1\n",
    "        else:\n",
    "            special_count+=1\n",
    "    if(\n",
    "        upper_count>=2 and\n",
    "        lower_count>=2 and\n",
    "        num_count>=2 and\n",
    "        special_count>=2\n",
    "    ):\n",
    "        return \"Valid Password\"\n",
    "    else:\n",
    "        return \"Invalid Password\"\n",
    "\n",
    "password=input(\"enter the password : \")\n",
    "print(check_password(password))        "
   ]
  },
  {
   "cell_type": "markdown",
   "id": "548c7574-fc40-468e-9a33-a49e04dcf5d6",
   "metadata": {},
   "source": [
    "### Q2. Solve the below-given questions using at least one of the following: \n",
    "1. Lambda function\n",
    "2. Filter function\n",
    "3. Zap function\n",
    "4. List Comprehension\n",
    "   ####  Check if the string starts with a particular letter\n",
    "    Check if the string is numeric\n",
    "   Sort a list of tuples having fruit names and their quantity. [(\"mango\",99),(\"orange\",80), (\"grapes\", 1000)-\n",
    "  \n",
    "    Find the squares of numbers from 1 to 10\n",
    "    \n",
    "    Find the cube root of numbers from 1 to 10\n",
    "    \n",
    "    Check if a given number is even\n",
    "    \n",
    "    Filter odd numbers from the given list.\n",
    "    [1,2,3,4,5,6,7,8,9,10]\n",
    "    \n",
    "    Sort a list of integers into positive and negative integers lists.\n",
    "    [1,2,3,4,5,6,-1,-2,-3,-4,-5,0]"
   ]
  },
  {
   "cell_type": "code",
   "execution_count": 3,
   "id": "85e22b65-6fb1-4172-86bd-c9eb27956275",
   "metadata": {},
   "outputs": [
    {
     "name": "stdout",
     "output_type": "stream",
     "text": [
      "True\n"
     ]
    }
   ],
   "source": [
    "starts_with_a = lambda s: s.startswith('a')\n",
    "result = starts_with_a(\"apple\")\n",
    "print(result)"
   ]
  },
  {
   "cell_type": "code",
   "execution_count": 4,
   "id": "858d5c99-906a-4027-9b8e-2bbcff53c1e5",
   "metadata": {},
   "outputs": [
    {
     "name": "stdout",
     "output_type": "stream",
     "text": [
      "True\n"
     ]
    }
   ],
   "source": [
    "is_numeric = lambda s: s.isnumeric()\n",
    "result = is_numeric(\"123\")\n",
    "print(result) "
   ]
  },
  {
   "cell_type": "code",
   "execution_count": 5,
   "id": "159abb50-895d-45d5-98bd-4f608ba9af1c",
   "metadata": {},
   "outputs": [
    {
     "name": "stdout",
     "output_type": "stream",
     "text": [
      "[('orange', 80), ('mango', 99), ('grapes', 1000)]\n"
     ]
    }
   ],
   "source": [
    "fruits = [(\"mango\", 99), (\"orange\", 80), (\"grapes\", 1000)]\n",
    "sorted_fruits = sorted(fruits, key=lambda x: x[1])\n",
    "print(sorted_fruits)"
   ]
  },
  {
   "cell_type": "code",
   "execution_count": 6,
   "id": "9a1c88e2-ca94-426e-a25b-a3b34c282944",
   "metadata": {},
   "outputs": [
    {
     "name": "stdout",
     "output_type": "stream",
     "text": [
      "[1, 4, 9, 16, 25, 36, 49, 64, 81, 100]\n"
     ]
    }
   ],
   "source": [
    "squares = [x**2 for x in range(1, 11)]\n",
    "print(squares)"
   ]
  },
  {
   "cell_type": "code",
   "execution_count": 9,
   "id": "309bdd46-ddfe-44a1-96eb-a9b9c3c8fdd5",
   "metadata": {},
   "outputs": [
    {
     "name": "stdout",
     "output_type": "stream",
     "text": [
      "[1.0, 1.2599210498948732, 1.4422495703074083, 1.5874010519681994, 1.7099759466766968, 1.8171205928321397, 1.912931182772389, 2.0, 2.080083823051904, 2.154434690031884]\n"
     ]
    }
   ],
   "source": [
    "import math\n",
    "cube_root=[math.pow(x,1/3) for x in range(1,11)]\n",
    "print(cube_root)"
   ]
  },
  {
   "cell_type": "code",
   "execution_count": 10,
   "id": "1331ed35-e6f0-4043-b9e1-c7f2ed0cbe7a",
   "metadata": {},
   "outputs": [
    {
     "name": "stdout",
     "output_type": "stream",
     "text": [
      "True\n"
     ]
    }
   ],
   "source": [
    "is_even=lambda x:x%2==0\n",
    "print(is_even(4))"
   ]
  },
  {
   "cell_type": "code",
   "execution_count": 13,
   "id": "e6bb68cd-2933-4b1f-92f7-fac22024819b",
   "metadata": {},
   "outputs": [
    {
     "name": "stdout",
     "output_type": "stream",
     "text": [
      "[1, 3, 5, 7, 9]\n"
     ]
    }
   ],
   "source": [
    "numbers = [1, 2, 3, 4, 5, 6, 7, 8, 9, 10]\n",
    "odd_numbers =list(filter(lambda x:x%2!=0,numbers))\n",
    "print(odd_numbers)"
   ]
  },
  {
   "cell_type": "code",
   "execution_count": 15,
   "id": "c9fb462c-7bda-47dc-924d-9bbd322a4639",
   "metadata": {},
   "outputs": [
    {
     "name": "stdout",
     "output_type": "stream",
     "text": [
      "Positive numbers: [1, 2, 3, 4, 5, 6]\n",
      "Negative numbers: [-1, -2, -3, -4, -5]\n"
     ]
    }
   ],
   "source": [
    "numbers = [1, 2, 3, 4, 5, 6, -1, -2, -3, -4, -5, 0]\n",
    "positive_numbers=list(filter(lambda x:x>0,numbers))\n",
    "negative_numbers=list(filter(lambda x:x<0,numbers))\n",
    "print(\"Positive numbers:\", positive_numbers)\n",
    "print(\"Negative numbers:\", negative_numbers)\n"
   ]
  },
  {
   "cell_type": "code",
   "execution_count": null,
   "id": "83e9fb0a-349a-4a82-8ff5-99f125f6ed2b",
   "metadata": {},
   "outputs": [],
   "source": []
  }
 ],
 "metadata": {
  "kernelspec": {
   "display_name": "Python 3 (ipykernel)",
   "language": "python",
   "name": "python3"
  },
  "language_info": {
   "codemirror_mode": {
    "name": "ipython",
    "version": 3
   },
   "file_extension": ".py",
   "mimetype": "text/x-python",
   "name": "python",
   "nbconvert_exporter": "python",
   "pygments_lexer": "ipython3",
   "version": "3.10.8"
  }
 },
 "nbformat": 4,
 "nbformat_minor": 5
}
