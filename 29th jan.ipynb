{
 "cells": [
  {
   "cell_type": "markdown",
   "id": "cc5c32e4-cd55-4d71-96d7-1b3f0d4cc7f8",
   "metadata": {},
   "source": [
    "1.Who developed python programming language ?\n",
    "\n",
    "Ans: Guido van rossum."
   ]
  },
  {
   "cell_type": "markdown",
   "id": "3cd0624c-f2a5-43d0-bea7-d0ac90bfcfaa",
   "metadata": {},
   "source": [
    "2.Which type of programming does python support ?\n",
    "\n",
    "Ans: Python support both Object oriented programming and Structued programming paradigm."
   ]
  },
  {
   "cell_type": "markdown",
   "id": "999097b9-1391-4e07-b243-a141a9405318",
   "metadata": {},
   "source": [
    "3.Is python case sensitive when dealing with identifires ?\n",
    "\n",
    "Ans: Yes python is case sensitive programming language."
   ]
  },
  {
   "cell_type": "markdown",
   "id": "1d58c3fe-b44b-4dfb-b4da-5360fa1b7223",
   "metadata": {},
   "source": [
    "4.What is the correct extension of the Python file ?\n",
    "\n",
    "Ans: .py is the correcct extension of the python file."
   ]
  },
  {
   "cell_type": "markdown",
   "id": "32444c1d-7be4-49b3-886e-648ff6ab0d9c",
   "metadata": {},
   "source": [
    "5. Is python code is compiled of interepreated ?\n",
    "\n",
    " Ans: Python code is intererpreated."
   ]
  },
  {
   "cell_type": "markdown",
   "id": "74ca4e86-f916-4794-97da-172a926ac07b",
   "metadata": {},
   "source": [
    "6.Name a few block of code used to define in Python language ?\n",
    "\n",
    " Ans: A module, function and class is used to define in Python language."
   ]
  },
  {
   "cell_type": "markdown",
   "id": "845db99f-ca22-4595-bd22-ecedef9d833e",
   "metadata": {},
   "source": [
    "7. State a character used to give single line comments in python ?\n",
    "\n",
    " Ans: '#' is used to give single line comments."
   ]
  },
  {
   "cell_type": "markdown",
   "id": "55512c7b-b644-4f0c-a6df-1d41dff77906",
   "metadata": {},
   "source": [
    "8.Mention functions which can help use to fincd the verion of python that we are currently working on ?\n",
    "\n",
    "Ans: sys.version function help us to find the version of the python that we are currenty working on."
   ]
  },
  {
   "cell_type": "markdown",
   "id": "e2173693-cad8-4c49-90ed-c32a37adb16b",
   "metadata": {},
   "source": [
    "9.Python support the creation of anonymous functions at runtime,using construct called ?\n",
    "\n",
    "Ans: Python support the creation of anonymous function at runtime,using construct called lamda."
   ]
  },
  {
   "cell_type": "markdown",
   "id": "ecfdf45c-9b3f-4765-927b-05bb64008b21",
   "metadata": {},
   "source": [
    "10.What does pip stands for in python ?\n",
    "\n",
    "Ans: pip stands for \"pip install package\""
   ]
  },
  {
   "cell_type": "markdown",
   "id": "4e2d0ca5-81bf-4b85-b3e8-dff92ad3ef04",
   "metadata": {},
   "source": [
    "11.Mention few built in function in python ?\n",
    "\n",
    "Ans: In python most of the functions are built in.\n",
    "some example are...\n",
    "print(): Used to display output to the console.\n",
    "len(): Returns the length of an object, such as a string or list.\n",
    "type(): Returns the data type of an object.\n",
    "range(): Returns a sequence of numbers.\n",
    "max(): Returns the largest item in an iterable or the largest of two or more arguments.\n",
    "min(): Returns the smallest item in an iterable or the smallest of two or more arguments.\n",
    "abs(): Returns the absolute value of a number.\n",
    "round(): Rounds a number to a specified number of decimal places.\n",
    "sum(): Returns the sum of all items in an iterable.\n",
    "sorted(): Returns a sorted list from an iterable.\n"
   ]
  },
  {
   "cell_type": "markdown",
   "id": "3b87c917-209c-4af8-9c21-012f290a3f7a",
   "metadata": {},
   "source": [
    "12.What is the maximum possible length of an identifier in python ?\n",
    "\n",
    "Ans: Maximum possible length of an identifer in python is 79 character."
   ]
  },
  {
   "cell_type": "markdown",
   "id": "80d47e22-b9f4-4477-9aa5-2f4eb843c450",
   "metadata": {},
   "source": [
    "13.What are the benifits of using Python ?\n",
    "\n",
    "Ans: Python has many benefits that make it a popular language for a wide range of applications. Here are some of the key benefits of using Python:\n",
    "\n",
    "Easy to Learn: Python has a simple and easy-to-learn syntax, which makes it an ideal language for beginners. Its readability and intuitive nature make it easy for developers to write and maintain code.\n",
    "\n",
    "Large Community: Python has a large and active community of developers, which means that there are plenty of resources, libraries, and frameworks available for developers to use.\n",
    "\n",
    "Cross-Platform Compatibility: Python is a cross-platform language, which means that it can run on different operating systems, including Windows, Mac, and Linux.\n",
    "\n",
    "Libraries and Frameworks: Python has a wide range of libraries and frameworks that make it easy to build complex applications, including web development frameworks like Django and Flask, data science libraries like NumPy and Pandas, and machine learning libraries like TensorFlow and PyTorch.\n",
    "\n",
    "Productivity: Python is a high-level language that allows developers to write code quickly and efficiently. It also has a large number of built-in functions and data types, which makes it easy to perform complex tasks without writing too much code.\n",
    "\n",
    "Versatility: Python can be used for a wide range of applications, including web development, scientific computing, data analysis, artificial intelligence, and machine learning.\n",
    "\n",
    "Overall, Python's simplicity, productivity, versatility, and large community make it an excellent choice for a wide range of application."
   ]
  },
  {
   "cell_type": "markdown",
   "id": "c727d131-d4e9-4461-a842-a401722190f0",
   "metadata": {},
   "source": [
    "14 How is memory managed in Python ?\n",
    "\n",
    "Ans: Memory management in Python is handled automatically by a process called garbage collection. The garbage collector runs periodically in the background, identifying and deleting objects that are no longer in use.\n",
    "\n",
    "Python uses a reference counting mechanism to keep track of the number of references to each object. When the reference count for an object reaches zero, the object is no longer in use and the garbage collector deletes it.\n",
    "\n",
    "In addition to reference counting, Python also uses a technique called \"cyclic garbage collection\" to detect and delete objects that reference each other in a circular manner, making them unreachable by reference counting alone.\n",
    "\n",
    "Python also has a feature called \"object pooling\" which reuses previously allocated memory instead of creating new objects each time. This helps to reduce the overhead of allocating and deallocating memory and can improve performance.\n",
    "\n",
    "Overall, Python's memory management system is designed to be automatic and transparent to the developer, allowing them to focus on writing code without worrying about memory allocation and deallocation."
   ]
  },
  {
   "cell_type": "markdown",
   "id": "21a4d74f-46a4-42af-83d0-107bcbf66a58",
   "metadata": {},
   "source": [
    "15. How to install Python on Windows and set path variables ?\n",
    "\n",
    "Ans:Here are the steps to install Python on Windows and set path variables:\n",
    "\n",
    "Go to the Python website at https://www.python.org/downloads/windows/\n",
    "Download the latest version of Python for Windows by clicking on the \"Download Python\" button.\n",
    "Run the installer and follow the instructions to install Python on your computer.\n",
    "During the installation process, make sure to select the \"Add Python to PATH\" option.\n",
    "Once the installation is complete, open the command prompt by pressing the Windows key + R and typing \"cmd\".\n",
    "Type \"python\" in the command prompt and press Enter to check if Python has been installed properly. If you see the Python prompt (>>>) then Python has been installed correctly.\n",
    "To set the path variables, right-click on the \"My Computer\" or \"This PC\" icon on your desktop and select \"Properties\".\n",
    "Click on \"Advanced system settings\" and then click on the \"Environment Variables\" button.\n",
    "Under \"System Variables\", scroll down until you find the \"Path\" variable and select it.\n",
    "Click on \"Edit\" and add the path to your Python installation directory (for example, \"C:\\Python39\") at the end of the \"Variable value\" field.\n",
    "Click \"OK\" to close all windows.\n",
    "That's it! You should now be able to run Python commands from the command prompt or from any location on your computer."
   ]
  },
  {
   "cell_type": "markdown",
   "id": "720678a8-aa1d-43c4-852f-b7640caeb69d",
   "metadata": {},
   "source": [
    "16.Is identation required in python\n",
    "\n",
    "Ans: "
   ]
  },
  {
   "cell_type": "code",
   "execution_count": null,
   "id": "ce9cafbf-156c-43a8-9e07-9ac4e46b7d10",
   "metadata": {},
   "outputs": [],
   "source": []
  }
 ],
 "metadata": {
  "kernelspec": {
   "display_name": "Python 3 (ipykernel)",
   "language": "python",
   "name": "python3"
  },
  "language_info": {
   "codemirror_mode": {
    "name": "ipython",
    "version": 3
   },
   "file_extension": ".py",
   "mimetype": "text/x-python",
   "name": "python",
   "nbconvert_exporter": "python",
   "pygments_lexer": "ipython3",
   "version": "3.10.8"
  }
 },
 "nbformat": 4,
 "nbformat_minor": 5
}
