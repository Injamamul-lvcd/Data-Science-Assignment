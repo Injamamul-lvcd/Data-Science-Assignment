{
 "cells": [
  {
   "cell_type": "markdown",
   "id": "b5bc7b0a-574c-472c-b638-238d6d51cdee",
   "metadata": {},
   "source": [
    "### Q1.What are the characteristics of the tuple ? Is tuple immutable ?"
   ]
  },
  {
   "cell_type": "markdown",
   "id": "0c3a89b4-5d06-4837-9c7f-531a5c05b088",
   "metadata": {},
   "source": [
    " Ans: In python,tuple is a collecton of ordered and immutable elements enclosed in parenthesis().\n",
    " Here are some it's characteristics.\n",
    "1.Immutable: Once a tuple is created, its elements cannot be modified. This means you cannot add, remove, or change any element in a tuple.\n",
    "\n",
    "2.Ordered: The elements in a tuple are ordered, which means that they have a specific position/index within the tuple.\n",
    "\n",
    "3.Heterogeneous: A tuple can store elements of different data types, such as integers, strings, or even other tuples.\n",
    "\n",
    "4.Can be nested: A tuple can contain another tuple as an element, allowing you to create nested data structures.\n",
    "\n",
    "5.Indexed: The elements in a tuple can be accessed using their index position starting from 0.\n",
    "\n",
    "6.Iteratable: You can iterate over the elements of a tuple using a for loop.\n",
    "\n",
    "7.Hashable: Tuples are hashable, which means that they can be used as keys in dictionaries and elements in sets. This is because they are immutable and their contents cannot be changed."
   ]
  },
  {
   "cell_type": "markdown",
   "id": "81f8898a-a2a1-4b3c-8bf7-c076b2f24360",
   "metadata": {},
   "source": [
    "### Q2. What are the two tuple methods in python? Give an example of each method. Give a reason why tuples have only two in-built methods as compared to Lists.\n"
   ]
  },
  {
   "cell_type": "markdown",
   "id": "10f3e1fc-3eef-4aac-88b1-0d6ba5814aa2",
   "metadata": {},
   "source": [
    "Ans: coun() and index() are two tuple method in python ."
   ]
  },
  {
   "cell_type": "code",
   "execution_count": 3,
   "id": "d54fd2c1-ba1e-41ca-b065-e8c9d7986670",
   "metadata": {},
   "outputs": [
    {
     "name": "stdout",
     "output_type": "stream",
     "text": [
      "2\n",
      "1\n"
     ]
    }
   ],
   "source": [
    "#example of two method in tuple.\n",
    "t1=(1,8,1,2,7,3,9)\n",
    "val=t1.count(1)\n",
    "print(val)\n",
    "ind=t1.index(8)\n",
    "print(ind)"
   ]
  },
  {
   "cell_type": "markdown",
   "id": "aab55060-82d4-449b-8378-124fbfb893e0",
   "metadata": {},
   "source": [
    "Tuples have only two in-built methods in comparison to lists because tuples are immutable, meaning that once they are created, their elements cannot be modified. Therefore, there is no need for methods that modify the tuple or its elements.\n",
    "\n",
    "Here are the two in-built methods of tuples:\n",
    "\n",
    "count(): This method returns the number of times a specified value appears in a tuple.\n",
    "\n",
    "index(): This method returns the index of the first occurrence of a specified value in a tuple.\n",
    "\n",
    "On the other hand, lists are mutable, which means that they can be modified after creation. Therefore, lists have many in-built methods that allow you to add, remove, or modify elements in the list. Some of the most commonly used methods of lists include:\n",
    "\n",
    "append(): This method adds an element to the end of the list.\n",
    "\n",
    "remove(): This method removes the first occurrence of a specified element from the list.\n",
    "\n",
    "pop(): This method removes and returns the last element of the list.\n",
    "\n",
    "insert(): This method inserts an element at a specified position in the list.\n",
    "\n",
    "sort(): This method sorts the elements of the list in ascending order.\n",
    "\n",
    "In summary, tuples have fewer in-built methods than lists because they are immutable, and there is no need for methods that modify the tuple or its elements. Lists, on the other hand, have many in-built methods because they are mutable and allow you to modify their elements after creation."
   ]
  },
  {
   "cell_type": "markdown",
   "id": "f1969ff0-244f-4dfe-a556-3acdfe782338",
   "metadata": {},
   "source": [
    "### Q3. Which collection datatypes in python do not allow duplicate items? Write a code using a set to remove\n",
    "###  duplicates from the given list.\n",
    "###  List = [1, 1, 1, 2, 1, 3, 1, 4, 2, 1, 2, 2, 2, 3, 2, 4, 3, 1, 3, 2, 3, 3, 3, 4, 4, 1, 4, 2, 4, 3, 4, 4]"
   ]
  },
  {
   "cell_type": "markdown",
   "id": "17fa826c-0866-4675-9ee7-e729758323d6",
   "metadata": {},
   "source": [
    "Ans: Set does not allows to duplicate items."
   ]
  },
  {
   "cell_type": "code",
   "execution_count": 5,
   "id": "46466fcd-5f66-4715-ae3c-8a1823d0b165",
   "metadata": {},
   "outputs": [
    {
     "name": "stdout",
     "output_type": "stream",
     "text": [
      "{1, 2, 3, 4}\n"
     ]
    }
   ],
   "source": [
    "List=[1,1,1,2,1,3,1,4,2,1,2,2,2,3,2,4,3,1,3,2,3,3,3,4,4,1,4,2,4,3,4,4]\n",
    "S1=set(List)\n",
    "print(S1)"
   ]
  },
  {
   "cell_type": "markdown",
   "id": "7bb94824-356f-4c6b-90f4-6b2b5cb1e3be",
   "metadata": {},
   "source": [
    "### Q4. Explain the difference between the union() and update() methods for a set. Give an example of\n",
    "### each method."
   ]
  },
  {
   "cell_type": "markdown",
   "id": "f305520c-fea0-42a8-b595-3f4adc389bb7",
   "metadata": {},
   "source": [
    "Ans: Both union() and update() are methods of the set data type in Python. However, they have different purposes and behaviors.\n",
    "\n",
    "The union() method returns a new set that contains all the unique elements from two or more sets. It does not modify the original sets. The syntax for using the union() method is as follows:"
   ]
  },
  {
   "cell_type": "code",
   "execution_count": 7,
   "id": "3a572dfc-01c8-4bde-9334-d60134035584",
   "metadata": {},
   "outputs": [
    {
     "name": "stdout",
     "output_type": "stream",
     "text": [
      "{1, 2, 3, 4, 5}\n"
     ]
    }
   ],
   "source": [
    "# union of sets\n",
    "set1={1,2,4}\n",
    "set2={1,3,5}\n",
    "set3=set1.union(set2)\n",
    "print(set3)"
   ]
  },
  {
   "cell_type": "markdown",
   "id": "614cb700-ca20-4dc2-a66b-3fa3b469c933",
   "metadata": {},
   "source": [
    "In this example, we define two sets set1 and set2 that have some overlapping elements. We use the union() method to create a new set set3 that contains all the unique elements from set1 and set2.\n",
    "\n",
    "On the other hand, the update() method modifies the original set by adding all the elements from another set or an iterable object (such as a list) to it. The syntax for using the update() method is as follows"
   ]
  },
  {
   "cell_type": "code",
   "execution_count": 12,
   "id": "1beb8055-e22d-4e36-8695-02a236274d17",
   "metadata": {},
   "outputs": [
    {
     "name": "stdout",
     "output_type": "stream",
     "text": [
      "{1, 2, 3, 4, 5}\n"
     ]
    }
   ],
   "source": [
    "# update of sets\n",
    "set1={1,2,4}\n",
    "set2={1,3,5}\n",
    "set1.update(set2)\n",
    "print(set1)"
   ]
  },
  {
   "cell_type": "markdown",
   "id": "ebc76e72-1f02-4617-89fa-04812f74d9d5",
   "metadata": {},
   "source": [
    "n this example, we define two sets set1 and set2. We use the update() method to add all the elements from set2 to set1, effectively modifying set1 to include all the unique elements from both sets.\n",
    "\n",
    "In summary, the union() method returns a new set that contains all the unique elements from two or more sets, while the update() method modifies the original set by adding all the elements from another set or iterable object to it."
   ]
  },
  {
   "cell_type": "markdown",
   "id": "9e1fcf2b-e82b-484a-bea2-25771b597baa",
   "metadata": {},
   "source": [
    "### Q5. What is a dictionary? Give an example. Also, state whether a dictionary is ordered or unordered."
   ]
  },
  {
   "cell_type": "markdown",
   "id": "5ad427f2-e406-4a63-9f66-ee617d6e7c21",
   "metadata": {},
   "source": [
    "Ans: A dictionary in Python is a collection of key-value pairs. It is used to store and retrieve data efficiently based on keys rather than by index.\n",
    "In a dictionary, the keys are unique and are used to access their corresponding values. Dictionaries are implemented using a hash table, which allows for fast and efficient lookups.\n",
    "\n",
    "Here's an example of a dictionary in Python:"
   ]
  },
  {
   "cell_type": "code",
   "execution_count": 14,
   "id": "1696b8b6-9c2e-44f1-8ef8-dfbfa1f75de6",
   "metadata": {},
   "outputs": [
    {
     "name": "stdout",
     "output_type": "stream",
     "text": [
      "injamamul\n",
      "16\n"
     ]
    }
   ],
   "source": [
    "d1={\"name\":\"injamamul\",\"class\":\"MCA\",\"specialization\":\"CSE\",\"Roll\":16}\n",
    "print(d1[\"name\"])\n",
    "print(d1[\"Roll\"])"
   ]
  },
  {
   "cell_type": "markdown",
   "id": "ff9bd6c8-7808-40c9-96e5-830e46c7984d",
   "metadata": {},
   "source": [
    "Dictionaries in Python are unordered, meaning that the order in which the key-value pairs are stored in the dictionary is not guaranteed to be the same as the order in which they were added. However, starting from Python 3.7, dictionaries are guaranteed to maintain the insertion order of their elements. This means that if you add key-value pairs to a dictionary in a certain order, they will be returned in the same order when you iterate over the dictionary."
   ]
  },
  {
   "cell_type": "markdown",
   "id": "64ba7653-dc47-4733-b237-dc57cee81ba9",
   "metadata": {},
   "source": [
    "### Q7. Using setdefault() method, create key named topics in the given dictionary and also add the value of\n",
    "### the key as this list ['Python', 'Machine Learning’, 'Deep Learning']\n",
    "### dict1 = {'language' : 'Python', 'course': 'Data Science Masters'}"
   ]
  },
  {
   "cell_type": "markdown",
   "id": "e8c9dc96-3e9f-460e-97d7-71c0c71787da",
   "metadata": {},
   "source": [
    "Ans: Here's an example of how to use the setdefault() method to add a new key-value pair to the dictionary and set a default value for it:"
   ]
  },
  {
   "cell_type": "code",
   "execution_count": null,
   "id": "fe1496fb-911b-45cc-ba2b-529eb66a041d",
   "metadata": {},
   "outputs": [],
   "source": [
    "dict1 = {'language': 'Python', 'course': 'Data Science Masters'}\n",
    "\n",
    "# Use setdefault() to add a new key 'topics' with a default value of an empty list\n",
    "dict1.setdefault('topics', [])\n",
    "\n",
    "# Add the values ['Python', 'Machine Learning', 'Deep Learning'] to the 'topics' key\n",
    "dict1['topics'].extend(['Python', 'Machine Learning', 'Deep Learning'])\n",
    "\n",
    "print(dict1) # Output: {'language': 'Python', 'course': 'Data Science Masters', 'topics': ['Python', 'Machine Learning', 'Deep Learning']}"
   ]
  },
  {
   "cell_type": "markdown",
   "id": "e854f4cc-6843-4c7f-8ec0-0e0b032e0d20",
   "metadata": {},
   "source": [
    "### Q8. What are the three view objects in dictionaries? Use the three in-built methods in python to display\n",
    "### these three view objects for the given dictionary.\n",
    "### dict1 = {'Sport': 'Cricket' , 'Teams': ['India', 'Australia', 'England', 'South Africa', 'Sri Lanka', 'New Zealand']}"
   ]
  },
  {
   "cell_type": "markdown",
   "id": "ab60a6d0-d417-40e4-a104-940b9a5db6cd",
   "metadata": {},
   "source": [
    "Ans: In Python dictionaries, there are three view objects:\n",
    "\n",
    "dict_keys: This object contains a view of the keys in the dictionary.\n",
    "\n",
    "dict_values: This object contains a view of the values in the dictionary.\n",
    "\n",
    "dict_items: This object contains a view of the key-value pairs in the dictionary.\n",
    "\n",
    "Here's an example of how to use the three in-built methods in Python to display these three view objects for the given dictionary:"
   ]
  },
  {
   "cell_type": "code",
   "execution_count": null,
   "id": "f1ca68ce-6bf7-4ae9-9ba1-56e634895adb",
   "metadata": {},
   "outputs": [],
   "source": [
    "dict1={'Sport': 'Cricket' , 'Teams': ['India', 'Australia', 'England', 'South Africa', 'Sri Lanka', 'New Zealand']}\n",
    "Keys_view=dict1.keys()\n",
    "print(keys_view)  # Output: dict_keys(['Sport', 'Teams'])\n",
    "\n",
    "values_view=dict1.values()\n",
    "print(values_view)     \n",
    "items_view=dict1.items()\n",
    "print(items_view)"
   ]
  },
  {
   "cell_type": "code",
   "execution_count": null,
   "id": "4d45931b-3de3-445d-aa80-e69e5643cdde",
   "metadata": {},
   "outputs": [],
   "source": []
  }
 ],
 "metadata": {
  "kernelspec": {
   "display_name": "Python 3 (ipykernel)",
   "language": "python",
   "name": "python3"
  },
  "language_info": {
   "codemirror_mode": {
    "name": "ipython",
    "version": 3
   },
   "file_extension": ".py",
   "mimetype": "text/x-python",
   "name": "python",
   "nbconvert_exporter": "python",
   "pygments_lexer": "ipython3",
   "version": "3.10.8"
  }
 },
 "nbformat": 4,
 "nbformat_minor": 5
}
